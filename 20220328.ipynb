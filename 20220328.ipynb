{
  "nbformat": 4,
  "nbformat_minor": 0,
  "metadata": {
    "colab": {
      "name": "20220328.ipynb",
      "provenance": [],
      "collapsed_sections": [],
      "authorship_tag": "ABX9TyPMSXf4CPEH+ohn0i8RhWKd",
      "include_colab_link": true
    },
    "kernelspec": {
      "name": "python3",
      "display_name": "Python 3"
    },
    "language_info": {
      "name": "python"
    }
  },
  "cells": [
    {
      "cell_type": "markdown",
      "metadata": {
        "id": "view-in-github",
        "colab_type": "text"
      },
      "source": [
        "<a href=\"https://colab.research.google.com/github/iamsorri/class2022Spring/blob/main/20220328.ipynb\" target=\"_parent\"><img src=\"https://colab.research.google.com/assets/colab-badge.svg\" alt=\"Open In Colab\"/></a>"
      ]
    },
    {
      "cell_type": "markdown",
      "source": [
        "# 2020 성북구 및 서울 보행자 무단횡단사고 다발지역정보 조회\n",
        "\n",
        "> API: 보행자 무단횡단사고 다발지역정보 조회 서비스(jaywalking)\n",
        "\n",
        "\n",
        "\n"
      ],
      "metadata": {
        "id": "FeiO3PWuMcvR"
      }
    },
    {
      "cell_type": "code",
      "source": [
        "!pip install gradio\n",
        "import gradio as gr\n",
        "import requests\n",
        "import pandas as pd"
      ],
      "metadata": {
        "id": "8eZHGJhmqd9a"
      },
      "execution_count": 1,
      "outputs": []
    },
    {
      "cell_type": "code",
      "source": [
        "URL = ('http://apis.data.go.kr/B552061/jaywalking/'\n",
        "      'getRestJaywalking?'\n",
        "      'ServiceKey=hhpbwB8p7ymV1PsmMnMIVsoEaOFJc5ckThMzWnsQNXTwUA88RFk7UZ2aN9WgvqSwrDpH5Ok1BP7pDXHphc6CJw%3D%3D'\n",
        "      '&searchYearCd=2020'\n",
        "      '&siDo=11'\n",
        "      '&guGun=290'\n",
        "      '&type=json'\n",
        "      '&numOfRows=10'\n",
        "      '&pageNo=1')\n",
        "response = requests.get(URL)"
      ],
      "metadata": {
        "id": "PoeM75XRiTWu"
      },
      "execution_count": 2,
      "outputs": []
    },
    {
      "cell_type": "code",
      "source": [
        "response"
      ],
      "metadata": {
        "colab": {
          "base_uri": "https://localhost:8080/"
        },
        "id": "Z-5fou0gX1gB",
        "outputId": "d5624d33-f2ee-4496-e407-0aa279e1fbf8"
      },
      "execution_count": 3,
      "outputs": [
        {
          "output_type": "execute_result",
          "data": {
            "text/plain": [
              "<Response [200]>"
            ]
          },
          "metadata": {},
          "execution_count": 3
        }
      ]
    },
    {
      "cell_type": "code",
      "source": [
        "r = response.json()\n",
        "r"
      ],
      "metadata": {
        "id": "JcLKwg0foR9p"
      },
      "execution_count": null,
      "outputs": []
    },
    {
      "cell_type": "markdown",
      "source": [
        "http://jsonviewer.stack.hu/ (copy json here to view json)"
      ],
      "metadata": {
        "id": "faIENRyFfnY1"
      }
    },
    {
      "cell_type": "code",
      "source": [
        "items = r['items']['item']\n",
        "items"
      ],
      "metadata": {
        "id": "W8lA0-IzE55W"
      },
      "execution_count": null,
      "outputs": []
    },
    {
      "cell_type": "code",
      "source": [
        "sido_sgg_nm = [item['sido_sgg_nm'] for item in items]\n",
        "spot_nm = [item['spot_nm'] for item in items]\n",
        "occrrnc_cnt = [item['occrrnc_cnt'] for item in items]\n",
        "caslt_cnt = [item['caslt_cnt'] for item in items]\n",
        "dth_dnv_cnt = [item['dth_dnv_cnt'] for item in items]\n",
        "\n",
        "sido_sgg_nm = pd.Series(sido_sgg_nm)\n",
        "spot_nm = pd.Series(spot_nm)   \n",
        "occrrnc_cnt = pd.Series(occrrnc_cnt)\n",
        "caslt_cnt = pd.Series(caslt_cnt)\n",
        "dth_dnv_cnt = pd.Series(dth_dnv_cnt)\n",
        "\n",
        "df = pd.DataFrame({ '시도시군구명': sido_sgg_nm, '지점명': spot_nm, '발생건수': occrrnc_cnt, '사상건수': caslt_cnt, '사망자수': dth_dnv_cnt})"
      ],
      "metadata": {
        "id": "V0OqPoJ-mNfh"
      },
      "execution_count": 6,
      "outputs": []
    },
    {
      "cell_type": "code",
      "source": [
        "df"
      ],
      "metadata": {
        "colab": {
          "base_uri": "https://localhost:8080/",
          "height": 206
        },
        "id": "hCIoMV4_magW",
        "outputId": "07210b52-06d4-4cdd-9c2a-d9e6c7573754"
      },
      "execution_count": 7,
      "outputs": [
        {
          "output_type": "execute_result",
          "data": {
            "text/plain": [
              "     시도시군구명                          지점명  발생건수  사상건수  사망자수\n",
              "0  서울 서울종암1      서울특별시 성북구 종암동(종암로97 부근)     5     5     0\n",
              "1  서울 서울종암2    서울특별시 성북구 석관동(석관동제일은행 부근)     5     5     0\n",
              "2  서울 서울종암3  서울특별시 성북구 하월곡동(동성자동차공업주 부근)     5     5     0\n",
              "3  서울 서울종암4   서울특별시 성북구 종암동(종암동31288 부근)     4     4     0\n",
              "4  서울 서울종암5      서울특별시 성북구 장위동(내고향한우 부근)     4     4     0"
            ],
            "text/html": [
              "\n",
              "  <div id=\"df-5860dc5d-cddb-40de-8a21-9dfe53edff1b\">\n",
              "    <div class=\"colab-df-container\">\n",
              "      <div>\n",
              "<style scoped>\n",
              "    .dataframe tbody tr th:only-of-type {\n",
              "        vertical-align: middle;\n",
              "    }\n",
              "\n",
              "    .dataframe tbody tr th {\n",
              "        vertical-align: top;\n",
              "    }\n",
              "\n",
              "    .dataframe thead th {\n",
              "        text-align: right;\n",
              "    }\n",
              "</style>\n",
              "<table border=\"1\" class=\"dataframe\">\n",
              "  <thead>\n",
              "    <tr style=\"text-align: right;\">\n",
              "      <th></th>\n",
              "      <th>시도시군구명</th>\n",
              "      <th>지점명</th>\n",
              "      <th>발생건수</th>\n",
              "      <th>사상건수</th>\n",
              "      <th>사망자수</th>\n",
              "    </tr>\n",
              "  </thead>\n",
              "  <tbody>\n",
              "    <tr>\n",
              "      <th>0</th>\n",
              "      <td>서울 서울종암1</td>\n",
              "      <td>서울특별시 성북구 종암동(종암로97 부근)</td>\n",
              "      <td>5</td>\n",
              "      <td>5</td>\n",
              "      <td>0</td>\n",
              "    </tr>\n",
              "    <tr>\n",
              "      <th>1</th>\n",
              "      <td>서울 서울종암2</td>\n",
              "      <td>서울특별시 성북구 석관동(석관동제일은행 부근)</td>\n",
              "      <td>5</td>\n",
              "      <td>5</td>\n",
              "      <td>0</td>\n",
              "    </tr>\n",
              "    <tr>\n",
              "      <th>2</th>\n",
              "      <td>서울 서울종암3</td>\n",
              "      <td>서울특별시 성북구 하월곡동(동성자동차공업주 부근)</td>\n",
              "      <td>5</td>\n",
              "      <td>5</td>\n",
              "      <td>0</td>\n",
              "    </tr>\n",
              "    <tr>\n",
              "      <th>3</th>\n",
              "      <td>서울 서울종암4</td>\n",
              "      <td>서울특별시 성북구 종암동(종암동31288 부근)</td>\n",
              "      <td>4</td>\n",
              "      <td>4</td>\n",
              "      <td>0</td>\n",
              "    </tr>\n",
              "    <tr>\n",
              "      <th>4</th>\n",
              "      <td>서울 서울종암5</td>\n",
              "      <td>서울특별시 성북구 장위동(내고향한우 부근)</td>\n",
              "      <td>4</td>\n",
              "      <td>4</td>\n",
              "      <td>0</td>\n",
              "    </tr>\n",
              "  </tbody>\n",
              "</table>\n",
              "</div>\n",
              "      <button class=\"colab-df-convert\" onclick=\"convertToInteractive('df-5860dc5d-cddb-40de-8a21-9dfe53edff1b')\"\n",
              "              title=\"Convert this dataframe to an interactive table.\"\n",
              "              style=\"display:none;\">\n",
              "        \n",
              "  <svg xmlns=\"http://www.w3.org/2000/svg\" height=\"24px\"viewBox=\"0 0 24 24\"\n",
              "       width=\"24px\">\n",
              "    <path d=\"M0 0h24v24H0V0z\" fill=\"none\"/>\n",
              "    <path d=\"M18.56 5.44l.94 2.06.94-2.06 2.06-.94-2.06-.94-.94-2.06-.94 2.06-2.06.94zm-11 1L8.5 8.5l.94-2.06 2.06-.94-2.06-.94L8.5 2.5l-.94 2.06-2.06.94zm10 10l.94 2.06.94-2.06 2.06-.94-2.06-.94-.94-2.06-.94 2.06-2.06.94z\"/><path d=\"M17.41 7.96l-1.37-1.37c-.4-.4-.92-.59-1.43-.59-.52 0-1.04.2-1.43.59L10.3 9.45l-7.72 7.72c-.78.78-.78 2.05 0 2.83L4 21.41c.39.39.9.59 1.41.59.51 0 1.02-.2 1.41-.59l7.78-7.78 2.81-2.81c.8-.78.8-2.07 0-2.86zM5.41 20L4 18.59l7.72-7.72 1.47 1.35L5.41 20z\"/>\n",
              "  </svg>\n",
              "      </button>\n",
              "      \n",
              "  <style>\n",
              "    .colab-df-container {\n",
              "      display:flex;\n",
              "      flex-wrap:wrap;\n",
              "      gap: 12px;\n",
              "    }\n",
              "\n",
              "    .colab-df-convert {\n",
              "      background-color: #E8F0FE;\n",
              "      border: none;\n",
              "      border-radius: 50%;\n",
              "      cursor: pointer;\n",
              "      display: none;\n",
              "      fill: #1967D2;\n",
              "      height: 32px;\n",
              "      padding: 0 0 0 0;\n",
              "      width: 32px;\n",
              "    }\n",
              "\n",
              "    .colab-df-convert:hover {\n",
              "      background-color: #E2EBFA;\n",
              "      box-shadow: 0px 1px 2px rgba(60, 64, 67, 0.3), 0px 1px 3px 1px rgba(60, 64, 67, 0.15);\n",
              "      fill: #174EA6;\n",
              "    }\n",
              "\n",
              "    [theme=dark] .colab-df-convert {\n",
              "      background-color: #3B4455;\n",
              "      fill: #D2E3FC;\n",
              "    }\n",
              "\n",
              "    [theme=dark] .colab-df-convert:hover {\n",
              "      background-color: #434B5C;\n",
              "      box-shadow: 0px 1px 3px 1px rgba(0, 0, 0, 0.15);\n",
              "      filter: drop-shadow(0px 1px 2px rgba(0, 0, 0, 0.3));\n",
              "      fill: #FFFFFF;\n",
              "    }\n",
              "  </style>\n",
              "\n",
              "      <script>\n",
              "        const buttonEl =\n",
              "          document.querySelector('#df-5860dc5d-cddb-40de-8a21-9dfe53edff1b button.colab-df-convert');\n",
              "        buttonEl.style.display =\n",
              "          google.colab.kernel.accessAllowed ? 'block' : 'none';\n",
              "\n",
              "        async function convertToInteractive(key) {\n",
              "          const element = document.querySelector('#df-5860dc5d-cddb-40de-8a21-9dfe53edff1b');\n",
              "          const dataTable =\n",
              "            await google.colab.kernel.invokeFunction('convertToInteractive',\n",
              "                                                     [key], {});\n",
              "          if (!dataTable) return;\n",
              "\n",
              "          const docLinkHtml = 'Like what you see? Visit the ' +\n",
              "            '<a target=\"_blank\" href=https://colab.research.google.com/notebooks/data_table.ipynb>data table notebook</a>'\n",
              "            + ' to learn more about interactive tables.';\n",
              "          element.innerHTML = '';\n",
              "          dataTable['output_type'] = 'display_data';\n",
              "          await google.colab.output.renderOutput(dataTable, element);\n",
              "          const docLink = document.createElement('div');\n",
              "          docLink.innerHTML = docLinkHtml;\n",
              "          element.appendChild(docLink);\n",
              "        }\n",
              "      </script>\n",
              "    </div>\n",
              "  </div>\n",
              "  "
            ]
          },
          "metadata": {},
          "execution_count": 7
        }
      ]
    },
    {
      "cell_type": "markdown",
      "source": [
        "\n",
        "\n",
        "---\n",
        "\n"
      ],
      "metadata": {
        "id": "wpsguMFdmfY6"
      }
    },
    {
      "cell_type": "code",
      "source": [
        "def test(guGun):\n",
        "  URL = ('http://apis.data.go.kr/B552061/jaywalking/getRestJaywalking?ServiceKey=hhpbwB8p7ymV1PsmMnMIVsoEaOFJc5ckThMzWnsQNXTwUA88RFk7UZ2aN9WgvqSwrDpH5Ok1BP7pDXHphc6CJw%3D%3D&searchYearCd=2020&siDo=11&guGun='+guGun+'&type=json&numOfRows=10&pageNo=1')\n",
        "  \n",
        "  response = requests.get(URL)\n",
        "  r = response.json()\n",
        "  items = r['items']['item']\n",
        "\n",
        "  sido_sgg_nm = [item['sido_sgg_nm'] for item in items]\n",
        "  spot_nm = [item['spot_nm'] for item in items]\n",
        "  occrrnc_cnt = [item['occrrnc_cnt'] for item in items]\n",
        "  caslt_cnt = [item['caslt_cnt'] for item in items]\n",
        "  dth_dnv_cnt = [item['dth_dnv_cnt'] for item in items]\n",
        "\n",
        "  sido_sgg_nm = pd.Series(sido_sgg_nm)\n",
        "  spot_nm = pd.Series(spot_nm)   \n",
        "  occrrnc_cnt = pd.Series(occrrnc_cnt)\n",
        "  caslt_cnt = pd.Series(caslt_cnt)\n",
        "  dth_dnv_cnt = pd.Series(dth_dnv_cnt)\n",
        "\n",
        "  df = pd.DataFrame({ '시도시군구명': sido_sgg_nm, '지점명': spot_nm, '발생건수': occrrnc_cnt, '사상건수': caslt_cnt, '사망자수': dth_dnv_cnt})\n",
        "  return df"
      ],
      "metadata": {
        "id": "xa2Gb_qsm_G5"
      },
      "execution_count": 8,
      "outputs": []
    },
    {
      "cell_type": "code",
      "source": [
        "iface = gr.Interface(test, gr.inputs.Dropdown(['680', '290', '305', '500'], label='법정동 코드'), gr.outputs.Dataframe(label='보행자 무단횡단사고 다발지역정보'))\n",
        "iface.launch()"
      ],
      "metadata": {
        "id": "kxORJVPOnDSP",
        "outputId": "160ec8c6-6f5d-4c16-9a9f-81279c0dc3cb",
        "colab": {
          "base_uri": "https://localhost:8080/",
          "height": 663
        }
      },
      "execution_count": 61,
      "outputs": [
        {
          "output_type": "stream",
          "name": "stdout",
          "text": [
            "Colab notebook detected. To show errors in colab notebook, set `debug=True` in `launch()`\n",
            "Running on public URL: https://51551.gradio.app\n",
            "\n",
            "This share link expires in 72 hours. For free permanent hosting, check out Spaces (https://huggingface.co/spaces)\n"
          ]
        },
        {
          "output_type": "display_data",
          "data": {
            "text/plain": [
              "<IPython.lib.display.IFrame at 0x7f14de01fed0>"
            ],
            "text/html": [
              "\n",
              "        <iframe\n",
              "            width=\"900\"\n",
              "            height=\"500\"\n",
              "            src=\"https://51551.gradio.app\"\n",
              "            frameborder=\"0\"\n",
              "            allowfullscreen\n",
              "        ></iframe>\n",
              "        "
            ]
          },
          "metadata": {}
        },
        {
          "output_type": "execute_result",
          "data": {
            "text/plain": [
              "(<fastapi.applications.FastAPI at 0x7f14e81a93d0>,\n",
              " 'http://127.0.0.1:7871/',\n",
              " 'https://51551.gradio.app')"
            ]
          },
          "metadata": {},
          "execution_count": 61
        }
      ]
    }
  ]
}