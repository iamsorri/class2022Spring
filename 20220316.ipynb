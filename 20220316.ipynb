{
  "nbformat": 4,
  "nbformat_minor": 0,
  "metadata": {
    "colab": {
      "name": "20220316.ipynb",
      "provenance": [],
      "authorship_tag": "ABX9TyOHuam4K1HMBWWKXPA7G7J/",
      "include_colab_link": true
    },
    "kernelspec": {
      "name": "python3",
      "display_name": "Python 3"
    },
    "language_info": {
      "name": "python"
    }
  },
  "cells": [
    {
      "cell_type": "markdown",
      "metadata": {
        "id": "view-in-github",
        "colab_type": "text"
      },
      "source": [
        "<a href=\"https://colab.research.google.com/github/iamsorri/class2022Spring/blob/main/20220316.ipynb\" target=\"_parent\"><img src=\"https://colab.research.google.com/assets/colab-badge.svg\" alt=\"Open In Colab\"/></a>"
      ]
    },
    {
      "cell_type": "markdown",
      "source": [
        "**코딩 기초**\n",
        "*   **변수** = '문자', 숫자 ==> *variables, string*\n",
        "*   **문법** = if(조건문), for(반복문) ==> *syntax*\n",
        "*   **함수** ==> *function*\n",
        "*   **패키지**(라이브러리) = 함수들을 모아놓은 것 ==> *packages, import(불러오기)*\n",
        "\n"
      ],
      "metadata": {
        "id": "IWcB4exc7Rmj"
      }
    },
    {
      "cell_type": "markdown",
      "source": [
        "**일반 언어과 프로그래밍 언어**\n",
        "*   Natural Language = word + meaning(content)\n",
        "*   Programming Language = word(*ex.var=3*) + syntax"
      ],
      "metadata": {
        "id": "rETt0-hz3sU8"
      }
    },
    {
      "cell_type": "markdown",
      "source": [
        "\n",
        "\n",
        "---\n",
        "\n"
      ],
      "metadata": {
        "id": "_vSDbUMuZbIy"
      }
    },
    {
      "cell_type": "markdown",
      "source": [
        "# 1. Variables"
      ],
      "metadata": {
        "id": "zYIhNZlcC41Z"
      }
    },
    {
      "cell_type": "markdown",
      "source": [
        "**변수의 종류**\n",
        "*   number(*integer/float*)(숫자)\n",
        "*   string(문자)\n",
        "*   list(여러 개) ≒ *tuple(item 바꾸기 안 됨)*\n",
        "*   dict"
      ],
      "metadata": {
        "id": "GA4b-aHWELtm"
      }
    },
    {
      "cell_type": "markdown",
      "source": [
        "\n",
        "\n",
        "---\n",
        "\n"
      ],
      "metadata": {
        "id": "AWP7QmTCVrDA"
      }
    },
    {
      "cell_type": "markdown",
      "source": [
        "**print**\n",
        "*   equal(=)을 통해 assign 하기\n",
        "*   print(a)를 통해 변수의 내용 보기\n",
        "*   print(type(a))을 통해 변수의 type 보기\n",
        "\n",
        "\n",
        "\n",
        "\n",
        "\n",
        "\n",
        "\n"
      ],
      "metadata": {
        "id": "LDR2aUvnWNkL"
      }
    },
    {
      "cell_type": "code",
      "metadata": {
        "id": "goAyoU7vRheI",
        "outputId": "85ac8513-823c-47e7-a838-f052c0f024fe",
        "colab": {
          "base_uri": "https://localhost:8080/"
        }
      },
      "source": [
        "a = 1; print(type(a)) #여러 코드를 이어쓸 때에는 ;(세미콜론) 사용"
      ],
      "execution_count": 75,
      "outputs": [
        {
          "output_type": "stream",
          "name": "stdout",
          "text": [
            "<class 'int'>\n"
          ]
        }
      ]
    },
    {
      "cell_type": "code",
      "source": [
        "a = 1.0; print(type(a)); print(a) #1.0도 float, 좌측바로 확인 가능"
      ],
      "metadata": {
        "colab": {
          "base_uri": "https://localhost:8080/"
        },
        "id": "mtcaKVnHFI2t",
        "outputId": "236f948c-dc28-4dd4-bfe7-5d660874f6f6"
      },
      "execution_count": 64,
      "outputs": [
        {
          "output_type": "stream",
          "name": "stdout",
          "text": [
            "<class 'float'>\n",
            "1.0\n"
          ]
        }
      ]
    },
    {
      "cell_type": "code",
      "metadata": {
        "id": "txxnoqJuRheJ",
        "outputId": "86078876-81bb-4352-c2c9-81c82e16db22",
        "colab": {
          "base_uri": "https://localhost:8080/"
        }
      },
      "source": [
        "a = 1.1; print(type(a)) "
      ],
      "execution_count": 65,
      "outputs": [
        {
          "output_type": "stream",
          "name": "stdout",
          "text": [
            "<class 'float'>\n"
          ]
        }
      ]
    },
    {
      "cell_type": "markdown",
      "source": [
        "\n",
        "\n",
        "---\n",
        "\n"
      ],
      "metadata": {
        "id": "A1kHWngRVwzn"
      }
    },
    {
      "cell_type": "markdown",
      "source": [
        "**인덱싱**\n",
        "*   a[n] = a의 n번째 가져오기\n",
        "*   파이썬에서 n은 0부터 시작\n",
        "*   x~y번째 가져오고 싶다면 [x-1:y] *(콜론의 오른쪽에 있는건 포함하지 않음, >)*\n",
        "*   맨 뒤에서부터 -1, -2, ...\n",
        "*   리스트 안에 리스트가 있는 경우 a[x][y]\n",
        "*   list, string의 인덱싱 방법 동일\n",
        "\n",
        "\n",
        "\n"
      ],
      "metadata": {
        "id": "JLIWdHK1KZ6H"
      }
    },
    {
      "cell_type": "code",
      "metadata": {
        "id": "SyP0PB86RheL",
        "outputId": "0e02e54a-ff8f-4625-d7e5-5cc806ac19e6",
        "colab": {
          "base_uri": "https://localhost:8080/"
        }
      },
      "source": [
        "a = '123'; print(type(a)); print(a[1]) #숫자를 적을지라도, '', \"\"를 사용"
      ],
      "execution_count": 66,
      "outputs": [
        {
          "output_type": "stream",
          "name": "stdout",
          "text": [
            "<class 'str'>\n",
            "2\n"
          ]
        }
      ]
    },
    {
      "cell_type": "code",
      "metadata": {
        "id": "EKYj0dvIHPo0",
        "outputId": "97683a61-2228-4484-f449-2773eef7d4af",
        "colab": {
          "base_uri": "https://localhost:8080/"
        }
      },
      "source": [
        "a = 'hello'; print(type(a)); print(a[1])"
      ],
      "execution_count": 67,
      "outputs": [
        {
          "output_type": "stream",
          "name": "stdout",
          "text": [
            "<class 'str'>\n",
            "e\n"
          ]
        }
      ]
    },
    {
      "cell_type": "code",
      "metadata": {
        "id": "Df6PhU-tHXr2",
        "outputId": "9654e9dc-ae23-4865-c2cc-ebbae6bd0fae",
        "colab": {
          "base_uri": "https://localhost:8080/"
        }
      },
      "source": [
        "a = [1, 2, 3, 4]; print(type(a)); print(a[0])  #list = 대괄호, 숫자/문자 모두 가능"
      ],
      "execution_count": 68,
      "outputs": [
        {
          "output_type": "stream",
          "name": "stdout",
          "text": [
            "<class 'list'>\n",
            "1\n"
          ]
        }
      ]
    },
    {
      "cell_type": "code",
      "source": [
        "a = [1, 2, 3, 4, 5, 6, 7, 8, 9, 10]  #콜론 뒤의 -1의 위치인 10은 포함되지 않음.\n",
        "print(a[:-1])\n",
        "print(a[4:])\n",
        "print(a[:])"
      ],
      "metadata": {
        "colab": {
          "base_uri": "https://localhost:8080/"
        },
        "id": "b6w04DpzNm2F",
        "outputId": "4cca8453-c236-46ac-d1ce-80dbd91e6b06"
      },
      "execution_count": 69,
      "outputs": [
        {
          "output_type": "stream",
          "name": "stdout",
          "text": [
            "[1, 2, 3, 4, 5, 6, 7, 8, 9]\n",
            "[5, 6, 7, 8, 9, 10]\n",
            "[1, 2, 3, 4, 5, 6, 7, 8, 9, 10]\n"
          ]
        }
      ]
    },
    {
      "cell_type": "code",
      "metadata": {
        "id": "DfS-gknCRheL",
        "outputId": "01333395-99bc-4033-de07-0b7a4e7176e0",
        "colab": {
          "base_uri": "https://localhost:8080/"
        }
      },
      "source": [
        "a = [1,'a', [3, '4']]; print(type(a)); print(a[0]); print(a[1]); print(a[2]); print(a[2][1])  \n",
        "#list안에 list가 들어있음(3번째 item, 2 item짜리 list)"
      ],
      "execution_count": 70,
      "outputs": [
        {
          "output_type": "stream",
          "name": "stdout",
          "text": [
            "<class 'list'>\n",
            "1\n",
            "a\n",
            "[3, '4']\n",
            "4\n"
          ]
        }
      ]
    },
    {
      "cell_type": "code",
      "source": [
        "a[2][1]  #a의 2번째 중, 1번째에 있는 것 = 3번째 [3, '4'] 중, 2번째 '4'"
      ],
      "metadata": {
        "colab": {
          "base_uri": "https://localhost:8080/",
          "height": 0
        },
        "id": "6Ai6VqmPQgHL",
        "outputId": "126883bb-8408-49c5-9a7a-8417ed55adf6"
      },
      "execution_count": 71,
      "outputs": [
        {
          "output_type": "execute_result",
          "data": {
            "text/plain": [
              "'4'"
            ],
            "application/vnd.google.colaboratory.intrinsic+json": {
              "type": "string"
            }
          },
          "metadata": {},
          "execution_count": 71
        }
      ]
    },
    {
      "cell_type": "code",
      "source": [
        "a = 'abcdefg1234'  #list와 string은 인덱싱 방법 동일\n",
        "print(type(a))\n",
        "print(a[3:-1])"
      ],
      "metadata": {
        "colab": {
          "base_uri": "https://localhost:8080/"
        },
        "id": "3ujYMFNGSEyx",
        "outputId": "673d840e-cdfc-447d-bef9-a6181406c64b"
      },
      "execution_count": 72,
      "outputs": [
        {
          "output_type": "stream",
          "name": "stdout",
          "text": [
            "<class 'str'>\n",
            "defg123\n"
          ]
        }
      ]
    },
    {
      "cell_type": "markdown",
      "source": [
        "\n",
        "\n",
        "---\n",
        "\n"
      ],
      "metadata": {
        "id": "SnLt4WrlV1r2"
      }
    },
    {
      "cell_type": "markdown",
      "source": [
        "**dict**\n",
        "*   중괄호\n",
        "*   key + value, 쌍으로 되어 있음\n",
        "*   key를 통해 value에 access\n",
        "*   항목 추가\n",
        "\n",
        "\n",
        "\n"
      ],
      "metadata": {
        "id": "rl1rbzdwUTmm"
      }
    },
    {
      "cell_type": "code",
      "metadata": {
        "id": "2sivfloGRheM",
        "outputId": "160850ad-7d71-48d9-f1ce-18ff4e2cccda",
        "colab": {
          "base_uri": "https://localhost:8080/"
        }
      },
      "source": [
        "a =\t{\"a\": \"apple\", \"b\": \"orange\", \"c\": 2014}\n",
        "print(type(a))\n",
        "print(a[\"a\"])"
      ],
      "execution_count": 73,
      "outputs": [
        {
          "output_type": "stream",
          "name": "stdout",
          "text": [
            "<class 'dict'>\n",
            "apple\n"
          ]
        }
      ]
    },
    {
      "cell_type": "code",
      "source": [
        "a = {123: \"hong\", 456: \"sol\", 'h': 2002}\n",
        "a[123]"
      ],
      "metadata": {
        "colab": {
          "base_uri": "https://localhost:8080/",
          "height": 0
        },
        "id": "n-F1IUDnVF3m",
        "outputId": "5079ff59-54db-41f7-8c59-2d1af22f1c29"
      },
      "execution_count": 74,
      "outputs": [
        {
          "output_type": "execute_result",
          "data": {
            "text/plain": [
              "'hong'"
            ],
            "application/vnd.google.colaboratory.intrinsic+json": {
              "type": "string"
            }
          },
          "metadata": {},
          "execution_count": 74
        }
      ]
    },
    {
      "cell_type": "markdown",
      "source": [
        "\n",
        "\n",
        "---\n",
        "\n"
      ],
      "metadata": {
        "id": "OqsS39NfZsdb"
      }
    },
    {
      "cell_type": "markdown",
      "source": [
        "**String과 List의 유사성—인덱스**"
      ],
      "metadata": {
        "id": "7gG9FTuGakgg"
      }
    },
    {
      "cell_type": "code",
      "metadata": {
        "id": "zwpWU02YmAur",
        "outputId": "9b8e41cc-7e93-4894-b8f3-4358e4112b8e",
        "colab": {
          "base_uri": "https://localhost:8080/"
        }
      },
      "source": [
        "s = 'abcdef'\n",
        "print(s[0], s[5], s[-1], s[-6])\n",
        "print(s[1:3], s[1:], s[:3], s[:])  #콜론 뒤 숫자보다 하나 더 전까지(3->2의 위치)"
      ],
      "execution_count": 76,
      "outputs": [
        {
          "output_type": "stream",
          "name": "stdout",
          "text": [
            "a f f a\n",
            "bc bcdef abc abcdef\n"
          ]
        }
      ]
    },
    {
      "cell_type": "code",
      "metadata": {
        "id": "mpkdZBeWmAux",
        "outputId": "37a646b5-23d9-49bc-bcf3-163731231b6f",
        "colab": {
          "base_uri": "https://localhost:8080/"
        }
      },
      "source": [
        "n = [100, 200, 300]\n",
        "print(n[0], n[2], n[-1], n[-3])\n",
        "print(n[1:2], n[1:], n[:2], n[:])"
      ],
      "execution_count": 78,
      "outputs": [
        {
          "output_type": "stream",
          "name": "stdout",
          "text": [
            "100 300 300 100\n",
            "[200] [200, 300] [100, 200] [100, 200, 300]\n"
          ]
        }
      ]
    },
    {
      "cell_type": "code",
      "metadata": {
        "id": "a45rgiNMmAuy",
        "outputId": "9b1a4417-a513-4f77-8ae9-64352e6da015"
      },
      "source": [
        "s[1]+s[3]+s[4:]*10  #string(문자)임에도 불구하고 +를 쓸 수 있음, (ef*10)"
      ],
      "execution_count": null,
      "outputs": [
        {
          "data": {
            "text/plain": [
              "'bdefefefefefefefefefef'"
            ]
          },
          "execution_count": 5,
          "metadata": {},
          "output_type": "execute_result"
        }
      ]
    },
    {
      "cell_type": "markdown",
      "source": [
        "\n",
        "\n",
        "---\n",
        "\n"
      ],
      "metadata": {
        "id": "RRnaJ5Qod6Mk"
      }
    },
    {
      "cell_type": "markdown",
      "source": [
        "# 2. Function"
      ],
      "metadata": {
        "id": "8q2nt-NneD0T"
      }
    },
    {
      "cell_type": "markdown",
      "source": [
        "**함수**\n",
        "*   '~를 입력하면 ~을 하라'\n",
        "*   함수(입력) ==> 코드 상에서 괄호가 보이면 그건 함수임\n",
        "*   ex. print(s[0], s[5], s[-2]), len(s)\n",
        "\n",
        "\n",
        "\n"
      ],
      "metadata": {
        "id": "_biSfKdydWFO"
      }
    },
    {
      "cell_type": "markdown",
      "source": [
        "\n",
        "\n",
        "---\n",
        "\n"
      ],
      "metadata": {
        "id": "C93AMd6WltvT"
      }
    },
    {
      "cell_type": "code",
      "metadata": {
        "id": "ulnefmnFmAuy",
        "outputId": "bca4f235-ff1e-41b0-f92e-80ef6ac97b62",
        "colab": {
          "base_uri": "https://localhost:8080/"
        }
      },
      "source": [
        "len(s)  #len() = 길이를 나타내는 함수"
      ],
      "execution_count": 79,
      "outputs": [
        {
          "output_type": "execute_result",
          "data": {
            "text/plain": [
              "6"
            ]
          },
          "metadata": {},
          "execution_count": 79
        }
      ]
    },
    {
      "cell_type": "code",
      "metadata": {
        "id": "IevwoMpmmAuz",
        "outputId": "69636955-73a9-49f7-ea43-efdb38a982c1"
      },
      "source": [
        "s.upper()  #대문자로 만들어주는 함수 (s = abcdef)"
      ],
      "execution_count": null,
      "outputs": [
        {
          "data": {
            "text/plain": [
              "'ABCDEF'"
            ]
          },
          "execution_count": 7,
          "metadata": {},
          "output_type": "execute_result"
        }
      ]
    },
    {
      "cell_type": "code",
      "metadata": {
        "id": "LRU0Yt1amAuz",
        "outputId": "b410b0db-00ca-4f80-ec60-ff7e856ddeb3",
        "colab": {
          "base_uri": "https://localhost:8080/",
          "height": 0
        }
      },
      "source": [
        "s = ' this is a house built this year.\\n' \t\n",
        "s  #셀의 맨 마지막 줄에서는 print를 쓰지 않아도 됨 "
      ],
      "execution_count": 81,
      "outputs": [
        {
          "output_type": "execute_result",
          "data": {
            "text/plain": [
              "' this is a house built this year.\\n'"
            ],
            "application/vnd.google.colaboratory.intrinsic+json": {
              "type": "string"
            }
          },
          "metadata": {},
          "execution_count": 81
        }
      ]
    },
    {
      "cell_type": "code",
      "metadata": {
        "id": "nMHteyDfmAu0",
        "outputId": "2f55caa2-dd53-4fac-e876-05ca87c5d63d"
      },
      "source": [
        "result = s.find('house')   #s.find = s에서 입력값을 찾아라\n",
        "result  "
      ],
      "execution_count": null,
      "outputs": [
        {
          "data": {
            "text/plain": [
              "11"
            ]
          },
          "execution_count": 11,
          "metadata": {},
          "output_type": "execute_result"
        }
      ]
    },
    {
      "cell_type": "code",
      "metadata": {
        "id": "gv82JUX7mAu0",
        "outputId": "18540837-5eb4-4cea-f087-2f7fd1581afa"
      },
      "source": [
        "result = s.find('this')\t  #제일 먼저 나오는걸 찾아줌 \n",
        "result  "
      ],
      "execution_count": null,
      "outputs": [
        {
          "data": {
            "text/plain": [
              "1"
            ]
          },
          "execution_count": 12,
          "metadata": {},
          "output_type": "execute_result"
        }
      ]
    },
    {
      "cell_type": "code",
      "metadata": {
        "id": "ua3TjwLcmAu2",
        "outputId": "ac192f91-46ce-4ff0-a040-f0d63541124e"
      },
      "source": [
        "s = s.strip()      \t          # a copy of s without leading or trailing whitespace\n",
        "s   #s.strip = s에서 줄바꿈 표시 같은 whitespace 지워줌"
      ],
      "execution_count": null,
      "outputs": [
        {
          "data": {
            "text/plain": [
              "'this is a house built this year.'"
            ]
          },
          "execution_count": 14,
          "metadata": {},
          "output_type": "execute_result"
        }
      ]
    },
    {
      "cell_type": "code",
      "metadata": {
        "id": "l37g5DqQmAu2",
        "outputId": "c1eefe2c-0edc-4678-c67b-b8306ca13471"
      },
      "source": [
        "tokens = s.split(' ')\t        # split s into a list wherever a t is found (whitespace by default)\n",
        "tokens  #s.split = 빈칸 입력받음, 빈칸을 중심으로 쪼개서 list로 만들어라(단어 만들기)"
      ],
      "execution_count": null,
      "outputs": [
        {
          "data": {
            "text/plain": [
              "['this', 'is', 'a', 'house', 'built', 'this', 'year.']"
            ]
          },
          "execution_count": 15,
          "metadata": {},
          "output_type": "execute_result"
        }
      ]
    },
    {
      "cell_type": "code",
      "metadata": {
        "id": "64sewKE8mAu2",
        "outputId": "e2e8dc1f-6b83-41ef-b746-7712099f2776"
      },
      "source": [
        "s = ' '.join(tokens)\t        # combine the words of the text into a string using s as the glue\n",
        "s  #빈칸을 이용해서, 위 list들을 모두 합쳐라"
      ],
      "execution_count": null,
      "outputs": [
        {
          "data": {
            "text/plain": [
              "'this is a house built this year.'"
            ]
          },
          "execution_count": 16,
          "metadata": {},
          "output_type": "execute_result"
        }
      ]
    },
    {
      "cell_type": "code",
      "metadata": {
        "id": "jfiqbBiImAu3",
        "outputId": "13300aff-f13a-4f48-c6ec-cbc5d01dd55b"
      },
      "source": [
        "s = s.replace('this', 'that') # replace instances of t with u inside s\n",
        "s  #s.replace = s에서 this를 that으로 바꿔라"
      ],
      "execution_count": null,
      "outputs": [
        {
          "data": {
            "text/plain": [
              "'that is a house built that year.'"
            ]
          },
          "execution_count": 17,
          "metadata": {},
          "output_type": "execute_result"
        }
      ]
    },
    {
      "cell_type": "markdown",
      "source": [
        "\n",
        "\n",
        "---\n",
        "\n"
      ],
      "metadata": {
        "id": "pqDkawLYZtwk"
      }
    },
    {
      "cell_type": "markdown",
      "source": [
        "**Funtion을 만드는 법**\n",
        "1.  define 함수이름(입력변수1, 입력변수2): *(콜론 중요)*\n",
        "2.  함수 정의에 대한 내용 (ex. c=a+b)\n",
        "3.  return 출력변수명1, 출력변수명2\n",
        "\n",
        "> 함수는 정의가 선행돼야 하고, 입출력의 관계가 선택적\n",
        "\n"
      ],
      "metadata": {
        "id": "tiEmiY8sZvEG"
      }
    },
    {
      "cell_type": "code",
      "metadata": {
        "id": "hpc_mhgAye2S"
      },
      "source": [
        "def add(a,b):  #정의와 사용은 다름. 우리가 print를 쓸 수 있는 것도 누군가 정의를 해놨기 때문\n",
        "  return a+b   \n",
        "\n",
        "def subtract(a,b):\n",
        "  return a-b\n",
        "\n",
        "def multiply(a,b):\n",
        "  return a*b\n",
        "\n",
        "def divide(a,b):\n",
        "  return a/b"
      ],
      "execution_count": 84,
      "outputs": []
    },
    {
      "cell_type": "code",
      "metadata": {
        "colab": {
          "base_uri": "https://localhost:8080/"
        },
        "id": "8Y4oa05Eykn4",
        "outputId": "5a1deea8-07b3-40d5-ea0e-5c66e28f0962"
      },
      "source": [
        "c = add(1,2); print(c)\n",
        "c = subtract(1,2); print(c)\n",
        "c = multiply(1,2); print(c)\n",
        "c = divide(1,2); print(c)"
      ],
      "execution_count": 85,
      "outputs": [
        {
          "output_type": "stream",
          "name": "stdout",
          "text": [
            "3\n",
            "-1\n",
            "2\n",
            "0.5\n"
          ]
        }
      ]
    },
    {
      "cell_type": "code",
      "source": [
        "def sol(a):\n",
        "  b = a + 530  #이렇게 중간 단계를 만들어도 됨\n",
        "  return b"
      ],
      "metadata": {
        "id": "oMI0Dtiji4yk"
      },
      "execution_count": 87,
      "outputs": []
    },
    {
      "cell_type": "code",
      "source": [
        "x = sol(3); print(x)"
      ],
      "metadata": {
        "colab": {
          "base_uri": "https://localhost:8080/"
        },
        "id": "tSZFakx8a8lR",
        "outputId": "c57f7222-6567-40c2-e965-9df99c096b29"
      },
      "execution_count": 89,
      "outputs": [
        {
          "output_type": "stream",
          "name": "stdout",
          "text": [
            "533\n"
          ]
        }
      ]
    },
    {
      "cell_type": "markdown",
      "source": [
        "\n",
        "\n",
        "---\n",
        "\n"
      ],
      "metadata": {
        "id": "FvKXr_Qtly9b"
      }
    },
    {
      "cell_type": "markdown",
      "source": [
        "# 3. Syntax"
      ],
      "metadata": {
        "id": "dfRMmX5UkD7X"
      }
    },
    {
      "cell_type": "markdown",
      "source": [
        "**문법의 종류**\n",
        "*   조건문(if)\n",
        "*   반복문(for/while)\n",
        "\n"
      ],
      "metadata": {
        "id": "cxFJKpmnkKfr"
      }
    },
    {
      "cell_type": "markdown",
      "source": [
        "\n",
        "\n",
        "---\n",
        "\n"
      ],
      "metadata": {
        "id": "CQD_EQokl5Ab"
      }
    },
    {
      "cell_type": "markdown",
      "source": [
        "**for**\n",
        "*   for 밑의 공간은 띄어주어야 밑줄의 함수가 for 구문에 들어있는 걸로 해석됨\n",
        "*   a에 있는 것들을 처음부터 하나하나씩 아래 i에 넣어서 돌린다(*for-loop*)\n",
        "\n",
        "\n"
      ],
      "metadata": {
        "id": "u8Jf7Z7Bl8Tn"
      }
    },
    {
      "cell_type": "code",
      "metadata": {
        "id": "Fu2mzgrqSLAU",
        "outputId": "a3ff0a73-760e-40a2-94c3-41eab6f41bd0",
        "colab": {
          "base_uri": "https://localhost:8080/"
        }
      },
      "source": [
        "a = [1, 2, 3, 4]  #list를 바로 넣는 방법\n",
        "for i in a:\n",
        "    print(i)"
      ],
      "execution_count": 90,
      "outputs": [
        {
          "output_type": "stream",
          "name": "stdout",
          "text": [
            "1\n",
            "2\n",
            "3\n",
            "4\n"
          ]
        }
      ]
    },
    {
      "cell_type": "code",
      "metadata": {
        "id": "XSJxLJVCSLAW",
        "outputId": "dd6d5833-bdb1-458e-ff24-1aceb4670544",
        "colab": {
          "base_uri": "https://localhost:8080/"
        }
      },
      "source": [
        "a = [1, 2, 3, 4]  #in 다음에 range를 써서 index를 이용하는 방법\n",
        "for i in range(len(a)):  #len(a)=4, range(4)=[0, 1, 2, 3]의 list가 만들어짐\n",
        "    print(a[i])   #[0, 1, 2, 3]을 i에 하나씩 넣고 돌린다 ==> a[0]; a[1]; a[2]; a[3]"
      ],
      "execution_count": 91,
      "outputs": [
        {
          "output_type": "stream",
          "name": "stdout",
          "text": [
            "1\n",
            "2\n",
            "3\n",
            "4\n"
          ]
        }
      ]
    },
    {
      "cell_type": "code",
      "metadata": {
        "id": "VTfxVRdgSLAW",
        "outputId": "7b430ba8-015e-4296-c883-ce2b3f9ed43b"
      },
      "source": [
        "a = ['red', 'green', 'blue', 'purple']  #list에 string이 들어감\n",
        "for i in a:\n",
        "    print(i)"
      ],
      "execution_count": null,
      "outputs": [
        {
          "output_type": "stream",
          "text": [
            "red\n",
            "green\n",
            "blue\n",
            "purple\n"
          ],
          "name": "stdout"
        }
      ]
    },
    {
      "cell_type": "code",
      "metadata": {
        "id": "Vc-7pW85SLAW",
        "outputId": "9394e177-c8c8-44db-ff28-1e9566072bb3"
      },
      "source": [
        "a = ['red', 'green', 'blue', 'purple']\n",
        "for i in range(len(a)):  #len(a)=4, range(len(a))=[0, 1, 2, 3]\n",
        "    print(a[i])  #list에서 a[0], a[1], a[2], a[3]"
      ],
      "execution_count": null,
      "outputs": [
        {
          "output_type": "stream",
          "text": [
            "red\n",
            "green\n",
            "blue\n",
            "purple\n"
          ],
          "name": "stdout"
        }
      ]
    },
    {
      "cell_type": "markdown",
      "source": [
        "\n",
        "\n",
        "---\n",
        "\n"
      ],
      "metadata": {
        "id": "_4_M2g1UqvYG"
      }
    },
    {
      "cell_type": "markdown",
      "source": [
        "**if**\n",
        "*  맞다면(==), 아니라면(!= or else)\n",
        "*   if 밑의 공간은 띄어주어야 밑줄의 함수가 if 구문에 들어있는 걸로 해석됨\n",
        "\n",
        "\n"
      ],
      "metadata": {
        "id": "nalAauVmqsYI"
      }
    },
    {
      "cell_type": "code",
      "metadata": {
        "id": "dD-ephD3SLAX",
        "outputId": "1689c2de-912b-4ca5-b257-eecf82db2048",
        "colab": {
          "base_uri": "https://localhost:8080/"
        }
      },
      "source": [
        "a = 0\n",
        "if a == 0:\n",
        "    print(a)\n",
        "else:\n",
        "    print(a+1)"
      ],
      "execution_count": 92,
      "outputs": [
        {
          "output_type": "stream",
          "name": "stdout",
          "text": [
            "0\n"
          ]
        }
      ]
    },
    {
      "cell_type": "code",
      "source": [
        "a = 1\n",
        "if a != 0:\n",
        "    print(a-1)"
      ],
      "metadata": {
        "colab": {
          "base_uri": "https://localhost:8080/"
        },
        "id": "0Nz7I29FrnQG",
        "outputId": "f9b8b4d1-6c73-4cca-8b2c-0886b1a6a696"
      },
      "execution_count": 94,
      "outputs": [
        {
          "output_type": "stream",
          "name": "stdout",
          "text": [
            "0\n"
          ]
        }
      ]
    },
    {
      "cell_type": "markdown",
      "source": [
        "\n",
        "\n",
        "---\n",
        "\n"
      ],
      "metadata": {
        "id": "wjAPX4rhryBt"
      }
    },
    {
      "cell_type": "markdown",
      "source": [
        "**syntax 중첩**\n",
        "*   맨 위는 fix, 아래부터 한다고 생각"
      ],
      "metadata": {
        "id": "i2fhreZur0Vi"
      }
    },
    {
      "cell_type": "code",
      "metadata": {
        "id": "M0AZaDMvSLAY",
        "outputId": "aadd8123-bb03-4cb9-b634-fa736b0b1816",
        "colab": {
          "base_uri": "https://localhost:8080/"
        }
      },
      "source": [
        "for i in range(1, 3):      #range(x, y) = [x, x+1, ..., y-1], range(1, 3) = [1, 2]\n",
        "    for j in range(3, 5):  #range(3, 5) = [3, 4]\n",
        "        print(i*j)         #1*3, 1*4, 2*3, 2*4"
      ],
      "execution_count": 97,
      "outputs": [
        {
          "output_type": "stream",
          "name": "stdout",
          "text": [
            "3\n",
            "4\n",
            "6\n",
            "8\n"
          ]
        }
      ]
    },
    {
      "cell_type": "code",
      "metadata": {
        "id": "ZPpZmVIHSLAY",
        "outputId": "6e185cde-2f75-4cb3-e606-50e146f6123b",
        "colab": {
          "base_uri": "https://localhost:8080/"
        }
      },
      "source": [
        "for i in range(1, 3):      #[1, 2]\n",
        "    for j in range(3, 5):  #[3, 4]\n",
        "        if j >=4:          #j=4일 때만 가능\n",
        "            print(i*j)     #1*4, 2*4"
      ],
      "execution_count": 98,
      "outputs": [
        {
          "output_type": "stream",
          "name": "stdout",
          "text": [
            "4\n",
            "8\n"
          ]
        }
      ]
    },
    {
      "cell_type": "markdown",
      "source": [
        "\n",
        "\n",
        "---\n",
        "\n"
      ],
      "metadata": {
        "id": "jZyIc2CltQjF"
      }
    },
    {
      "cell_type": "markdown",
      "source": [
        "**Comphrehension**\n",
        "\n",
        "> for, if가 list/dict 안으로 들어옴\n",
        "\n",
        "*   List Comprehension/Dict Comprehension\n",
        "*   a가 i로 들어가서(i가 a를 받아서) for를 돔으로써 이 조건을 만족시키는 list를 만들어라\n",
        "\n",
        "\n",
        "\n",
        "\n",
        "\n"
      ],
      "metadata": {
        "id": "7vlyMhWdtRct"
      }
    },
    {
      "cell_type": "code",
      "metadata": {
        "id": "JQXk5vi0SLAY",
        "outputId": "bba31c8d-c279-4de4-e8be-b4101bbda5d8",
        "colab": {
          "base_uri": "https://localhost:8080/"
        }
      },
      "source": [
        "a = [1, 2, 3, 4]\n",
        "b = [i for i in a if i >=2]\n",
        "b"
      ],
      "execution_count": 101,
      "outputs": [
        {
          "output_type": "execute_result",
          "data": {
            "text/plain": [
              "[2, 3, 4]"
            ]
          },
          "metadata": {},
          "execution_count": 101
        }
      ]
    },
    {
      "cell_type": "code",
      "metadata": {
        "id": "MDmBGZ3LSLAZ",
        "outputId": "e86c831e-88b5-413a-9b68-0a9af602c896",
        "colab": {
          "base_uri": "https://localhost:8080/"
        }
      },
      "source": [
        "a = ['red', 'green', 'blue', 'purple']\n",
        "b = [i for i in a if len(i) >=4]  #len('red')=3\n",
        "b"
      ],
      "execution_count": 100,
      "outputs": [
        {
          "output_type": "execute_result",
          "data": {
            "text/plain": [
              "['green', 'blue', 'purple']"
            ]
          },
          "metadata": {},
          "execution_count": 100
        }
      ]
    },
    {
      "cell_type": "code",
      "source": [
        "a = ['red', 'green', 'blue', 'purple']\n",
        "b = [1, 2, 3, 4]\n",
        "c = {a[i]:b[i] for i in range(4)}  \n",
        "c\n",
        "#range(4)=[0, 1, 2, 3]\n",
        "#{a[0]:b[0], a[1]:b[1], a[2]:b[2], a[3]:b[3]}\n",
        "#{'red':1, 'green':2, 'blue':3, 'purple':4}"
      ],
      "metadata": {
        "id": "Z6JMoDOHu48B",
        "outputId": "66568811-eb9a-41a9-e25e-f70019b8cf3e",
        "colab": {
          "base_uri": "https://localhost:8080/"
        }
      },
      "execution_count": 99,
      "outputs": [
        {
          "output_type": "execute_result",
          "data": {
            "text/plain": [
              "{'blue': 3, 'green': 2, 'purple': 4, 'red': 1}"
            ]
          },
          "metadata": {},
          "execution_count": 99
        }
      ]
    },
    {
      "cell_type": "markdown",
      "source": [
        "\n",
        "\n",
        "---\n",
        "\n"
      ],
      "metadata": {
        "id": "AcvW1ZVPvaWJ"
      }
    },
    {
      "cell_type": "markdown",
      "source": [
        "# 4. Import"
      ],
      "metadata": {
        "id": "gXHwikB3viMm"
      }
    },
    {
      "cell_type": "markdown",
      "source": [
        "*   install: 별로 유명하지 않은 패키지 설치작업\n",
        "*   import: 다들 많이 써서 install이 되어있는 것을 ram으로 옮기는 작업\n",
        "*   builtin: import 조차도 필요 없는 함수들*(ex. print)*\n",
        "\n"
      ],
      "metadata": {
        "id": "FHaMguY1vkj_"
      }
    },
    {
      "cell_type": "markdown",
      "source": [
        "**import 방법**\n",
        "\n",
        "\n",
        "> import 패키지 이름\n",
        "*   import를 할 때에는 패키지 안에 있는 A 디렉토리 내부의 a 디렉토리의 ~ funtion을 써라 라고 지정을 해줘야 함\n",
        "\n",
        "\n"
      ],
      "metadata": {
        "id": "sebPdp2lvm1S"
      }
    },
    {
      "cell_type": "markdown",
      "source": [
        "\n",
        "\n",
        "---\n",
        "\n"
      ],
      "metadata": {
        "id": "vxxCdWxRypDB"
      }
    },
    {
      "cell_type": "markdown",
      "source": [
        "**numpy**\n",
        "\n",
        "\n",
        "> 난수, 행렬을 generate 해주고, 수치적인 작업을 도와주는 패키지\n",
        "\n"
      ],
      "metadata": {
        "id": "Wuv3yJsbyqMx"
      }
    },
    {
      "cell_type": "code",
      "source": [
        "import numpy  #무조건 이걸 먼저 실행해야 함"
      ],
      "metadata": {
        "id": "cJDLSFLnyE_g"
      },
      "execution_count": 103,
      "outputs": []
    },
    {
      "cell_type": "code",
      "source": [
        "numpy.random.randn(5) \n",
        "#numpy라는 패키지 자체를 불러온 다음, random 디렉토리 속 randn 함수를 사용함\n",
        "#평균이 0인 정규분포 내에서 random number를 가져옴"
      ],
      "metadata": {
        "colab": {
          "base_uri": "https://localhost:8080/"
        },
        "id": "I_QxDt9kyE1t",
        "outputId": "1a88350a-e65e-40f5-eca5-4f7ea005a8d1"
      },
      "execution_count": 104,
      "outputs": [
        {
          "output_type": "execute_result",
          "data": {
            "text/plain": [
              "array([ 0.54731335,  0.24704931, -0.19489587, -1.06436128,  1.14587808])"
            ]
          },
          "metadata": {},
          "execution_count": 104
        }
      ]
    },
    {
      "cell_type": "markdown",
      "source": [
        "\n",
        "\n",
        "---\n",
        "\n"
      ],
      "metadata": {
        "id": "l61VyuZJyuih"
      }
    },
    {
      "cell_type": "markdown",
      "source": [
        "**matplotlib**\n",
        "\n",
        "> plotting, visualize 해주는 패키지\n"
      ],
      "metadata": {
        "id": "ASDeR--Kygn_"
      }
    },
    {
      "cell_type": "code",
      "metadata": {
        "id": "JXicrkYOzPRo"
      },
      "source": [
        "import numpy as np        #numpy가 기니까 np라고 줄여서 타이핑 줄임\n",
        "n = np.random.randn(100)  #재실행하면 아래 히스토그램도 바뀜"
      ],
      "execution_count": 107,
      "outputs": []
    },
    {
      "cell_type": "code",
      "metadata": {
        "id": "oKT4vn4MwyLA",
        "colab": {
          "base_uri": "https://localhost:8080/",
          "height": 352
        },
        "outputId": "1a5963c6-5e31-4009-b024-2ff8b245e021"
      },
      "source": [
        "import matplotlib\n",
        "matplotlib.pyplot.hist(n)\n",
        "#matplotlib 패키지 내, pyplot 디렉토리의 hist(히스토그램을 그려주는 함수) 불러옴"
      ],
      "execution_count": 108,
      "outputs": [
        {
          "output_type": "execute_result",
          "data": {
            "text/plain": [
              "(array([ 1.,  2.,  6., 11., 17., 20., 22., 11.,  8.,  2.]),\n",
              " array([-3.05479216, -2.4947858 , -1.93477944, -1.37477309, -0.81476673,\n",
              "        -0.25476037,  0.30524598,  0.86525234,  1.4252587 ,  1.98526506,\n",
              "         2.54527141]),\n",
              " <a list of 10 Patch objects>)"
            ]
          },
          "metadata": {},
          "execution_count": 108
        },
        {
          "output_type": "display_data",
          "data": {
            "text/plain": [
              "<Figure size 432x288 with 1 Axes>"
            ],
            "image/png": "[encoded data removed]"
          },
          "metadata": {
            "needs_background": "light"
          }
        }
      ]
    },
    {
      "cell_type": "code",
      "metadata": {
        "colab": {
          "base_uri": "https://localhost:8080/",
          "height": 350
        },
        "id": "zQJ4LnbA-Hvz",
        "outputId": "bec7eeff-8cae-4c3d-f090-eaf78cdb5fa9"
      },
      "source": [
        "import matplotlib.pyplot    #하위 디렉토리까지 써도 됨\n",
        "matplotlib.pyplot.hist(n)"
      ],
      "execution_count": null,
      "outputs": [
        {
          "output_type": "execute_result",
          "data": {
            "text/plain": [
              "(array([ 4.,  4.,  4.,  8., 19., 21., 16., 13.,  6.,  5.]),\n",
              " array([-2.54804234, -2.0585933 , -1.56914426, -1.07969522, -0.59024618,\n",
              "        -0.10079714,  0.3886519 ,  0.87810094,  1.36754998,  1.85699902,\n",
              "         2.34644806]),\n",
              " <a list of 10 Patch objects>)"
            ]
          },
          "metadata": {},
          "execution_count": 4
        },
        {
          "output_type": "display_data",
          "data": {
            "image/png": "[encoded data removed]",
            "text/plain": [
              "<Figure size 432x288 with 1 Axes>"
            ]
          },
          "metadata": {
            "needs_background": "light"
          }
        }
      ]
    },
    {
      "cell_type": "code",
      "metadata": {
        "id": "AWU6awi53c07",
        "outputId": "9b49fb47-6bac-4887-8815-e5ed130f6c56",
        "colab": {
          "base_uri": "https://localhost:8080/",
          "height": 350
        }
      },
      "source": [
        "import matplotlib.pyplot as plt   #하위 디렉토리(matplotlib.pyplot)까지 쓰고, 축약\n",
        "plt.hist(n)"
      ],
      "execution_count": null,
      "outputs": [
        {
          "output_type": "execute_result",
          "data": {
            "text/plain": [
              "(array([ 4.,  4.,  4.,  8., 19., 21., 16., 13.,  6.,  5.]),\n",
              " array([-2.54804234, -2.0585933 , -1.56914426, -1.07969522, -0.59024618,\n",
              "        -0.10079714,  0.3886519 ,  0.87810094,  1.36754998,  1.85699902,\n",
              "         2.34644806]),\n",
              " <a list of 10 Patch objects>)"
            ]
          },
          "metadata": {},
          "execution_count": 5
        },
        {
          "output_type": "display_data",
          "data": {
            "image/png": "[encoded data removed]",
            "text/plain": [
              "<Figure size 432x288 with 1 Axes>"
            ]
          },
          "metadata": {
            "needs_background": "light"
          }
        }
      ]
    },
    {
      "cell_type": "code",
      "metadata": {
        "colab": {
          "base_uri": "https://localhost:8080/",
          "height": 350
        },
        "id": "moIjn3Kv-Hqy",
        "outputId": "4b1e3880-1576-4b63-b4d0-192704221a8d"
      },
      "source": [
        "from matplotlib import pyplot    #(from matplolib) 하위 폴더만 import\n",
        "pyplot.hist(n)"
      ],
      "execution_count": null,
      "outputs": [
        {
          "output_type": "execute_result",
          "data": {
            "text/plain": [
              "(array([ 3.,  4.,  9., 11., 26., 19., 16., 10.,  1.,  1.]),\n",
              " array([-2.51307585, -1.99199295, -1.47091005, -0.94982715, -0.42874425,\n",
              "         0.09233865,  0.61342155,  1.13450445,  1.65558734,  2.17667024,\n",
              "         2.69775314]),\n",
              " <a list of 10 Patch objects>)"
            ]
          },
          "metadata": {},
          "execution_count": 11
        },
        {
          "output_type": "display_data",
          "data": {
            "image/png": "[encoded data removed]",
            "text/plain": [
              "<Figure size 432x288 with 1 Axes>"
            ]
          },
          "metadata": {
            "needs_background": "light"
          }
        }
      ]
    },
    {
      "cell_type": "code",
      "metadata": {
        "colab": {
          "base_uri": "https://localhost:8080/",
          "height": 350
        },
        "id": "ORo259i7_Uqi",
        "outputId": "8faa9ebd-66ff-4f86-e588-f114023e649d"
      },
      "source": [
        "from matplotlib.pyplot import hist    #hist만 import\n",
        "hist(n)"
      ],
      "execution_count": null,
      "outputs": [
        {
          "output_type": "execute_result",
          "data": {
            "text/plain": [
              "(array([ 3.,  4.,  9., 11., 26., 19., 16., 10.,  1.,  1.]),\n",
              " array([-2.51307585, -1.99199295, -1.47091005, -0.94982715, -0.42874425,\n",
              "         0.09233865,  0.61342155,  1.13450445,  1.65558734,  2.17667024,\n",
              "         2.69775314]),\n",
              " <a list of 10 Patch objects>)"
            ]
          },
          "metadata": {},
          "execution_count": 14
        },
        {
          "output_type": "display_data",
          "data": {
            "image/png": "[encoded data removed]",
            "text/plain": [
              "<Figure size 432x288 with 1 Axes>"
            ]
          },
          "metadata": {
            "needs_background": "light"
          }
        }
      ]
    },
    {
      "cell_type": "markdown",
      "source": [
        "**축약법**\n",
        "*   import matplotlib / matplotlib.pyplot.hist(n)\n",
        "*   import matplotlib.pyplot as plt / plt.hist(n)\n",
        "*   from matplotlib import pyplot / pyplot.hist(n)\n",
        "*   from matplotlib.pyplot import hist / hist(n)\n",
        "\n",
        "> numpy => np / matplotlib.pyplot => plt\n",
        "\n"
      ],
      "metadata": {
        "id": "RhrmXFil0wQY"
      }
    },
    {
      "cell_type": "markdown",
      "source": [
        ""
      ],
      "metadata": {
        "id": "Icw6FRKg1Yba"
      }
    },
    {
      "cell_type": "markdown",
      "source": [
        "# 5. Numpy"
      ],
      "metadata": {
        "id": "gBkJzlBz2EMw"
      }
    },
    {
      "cell_type": "markdown",
      "source": [
        "\n",
        "\n",
        "---\n",
        "\n"
      ],
      "metadata": {
        "id": "ZyigrqTY2X01"
      }
    },
    {
      "cell_type": "markdown",
      "source": [
        "**nd arrays(matrices)**\n",
        "\n",
        "> nd = n-dimensional array\n",
        "\n",
        "*   1줄: 1d / n*n: 2d / 층으로 쌓아올림: 3d \n",
        "\n",
        "\n"
      ],
      "metadata": {
        "id": "ATmmA0A52YkR"
      }
    },
    {
      "cell_type": "code",
      "metadata": {
        "id": "5ap7xyofShBB"
      },
      "source": [
        "import numpy as np"
      ],
      "execution_count": null,
      "outputs": []
    },
    {
      "cell_type": "code",
      "metadata": {
        "id": "2rqpSPZCShBC",
        "colab": {
          "base_uri": "https://localhost:8080/"
        },
        "outputId": "65accc3b-4e77-4bc4-de8a-3e2764c2b845"
      },
      "source": [
        "x = np.array([1,2,3])    #list는 계산할 수 없음, 그래서 특수한 변수 형태로 바꿔주는 것이 np.array\n",
        "print(x)\n",
        "print(type(x))           #class-특수한 변수 ==> numpy에서 제공하는 특수한 변수, ndarray\n",
        "print(x.shape)           #1d는 (n,)의 형식으로 나옴"
      ],
      "execution_count": 109,
      "outputs": [
        {
          "output_type": "stream",
          "name": "stdout",
          "text": [
            "[1 2 3]\n",
            "<class 'numpy.ndarray'>\n",
            "(3,)\n"
          ]
        }
      ]
    },
    {
      "cell_type": "code",
      "metadata": {
        "id": "EjC88C75ShBC",
        "colab": {
          "base_uri": "https://localhost:8080/"
        },
        "outputId": "7143e4dd-2864-4b57-855e-56eb92a6bd75"
      },
      "source": [
        "x = np.arange(0,10,2)    #a-range(x, y, z): x부터 y까지의 range에서 z의 increment를 만들어라\n",
        "print(x)\n",
        "print(type(x))\n",
        "print(x.shape)           #5개 아이템이 들어있는 1d array"
      ],
      "execution_count": null,
      "outputs": [
        {
          "output_type": "stream",
          "name": "stdout",
          "text": [
            "[0 2 4 6 8]\n",
            "<class 'numpy.ndarray'>\n",
            "(5,)\n"
          ]
        }
      ]
    },
    {
      "cell_type": "code",
      "metadata": {
        "id": "-MwkCEjTShBC",
        "colab": {
          "base_uri": "https://localhost:8080/"
        },
        "outputId": "11427674-886c-4f82-ca48-a1465f53223e"
      },
      "source": [
        "x = np.linspace(0,10,6)  #linspace: linear space, x부터 y의 range를 등분해서 z개의 숫자를 만들어라 \n",
        "print(x)\n",
        "print(type(x))\n",
        "print(x.shape)           #6개의 아이템이 들어있는 1d array"
      ],
      "execution_count": null,
      "outputs": [
        {
          "output_type": "stream",
          "name": "stdout",
          "text": [
            "[ 0.  2.  4.  6.  8. 10.]\n",
            "<class 'numpy.ndarray'>\n",
            "(6,)\n"
          ]
        }
      ]
    },
    {
      "cell_type": "code",
      "metadata": {
        "id": "tjk79SQ27fNv",
        "colab": {
          "base_uri": "https://localhost:8080/"
        },
        "outputId": "3ff3368b-6bb1-4664-933e-8504613780b1"
      },
      "source": [
        "x = np.array([[1,2,3], [4,5,6]])  #list 2개가 묶임\n",
        "print(x)\n",
        "print(type(x))\n",
        "print(x.shape)      #2 row, 3 column의 shape"
      ],
      "execution_count": null,
      "outputs": [
        {
          "output_type": "stream",
          "name": "stdout",
          "text": [
            "[[1 2 3]\n",
            " [4 5 6]]\n",
            "<class 'numpy.ndarray'>\n",
            "(2, 3)\n"
          ]
        }
      ]
    },
    {
      "cell_type": "code",
      "metadata": {
        "id": "C1ogg6iZ7yir",
        "colab": {
          "base_uri": "https://localhost:8080/"
        },
        "outputId": "ef7e4ae6-d5fc-4045-c426-fc53185cca26"
      },
      "source": [
        "x = np.array([[[1,2,3], [4,5,6]], [[7,8,9], [10,11,12]]])  #list 2개 묶인게 *2, 위/아래층으로 쌓임\n",
        "print(x)\n",
        "print(type(x))\n",
        "print(x.shape)      # 2 by 2 by 3 (2개의 층, 2개의 row, 3개의 column)\n",
        "#print(x)에서 제일 끝 중첩의 대괄호 개수를 보면 nd array를 알 수 있음"
      ],
      "execution_count": 111,
      "outputs": [
        {
          "output_type": "stream",
          "name": "stdout",
          "text": [
            "[[[ 1  2  3]\n",
            "  [ 4  5  6]]\n",
            "\n",
            " [[ 7  8  9]\n",
            "  [10 11 12]]]\n",
            "<class 'numpy.ndarray'>\n",
            "(2, 2, 3)\n"
          ]
        }
      ]
    },
    {
      "cell_type": "code",
      "metadata": {
        "id": "efgeNHtD8ZlT",
        "colab": {
          "base_uri": "https://localhost:8080/"
        },
        "outputId": "047fb9dd-8c90-4dbf-9f12-35123bed1052"
      },
      "source": [
        "x = np.ones([2, 2, 3])      #ones([x, y, z]): [x, y, z]에 1로 채워진 함수를 만들어줌\n",
        "print(x)\n",
        "print(type(x))\n",
        "print(x.shape)"
      ],
      "execution_count": null,
      "outputs": [
        {
          "output_type": "stream",
          "name": "stdout",
          "text": [
            "[[[1. 1. 1.]\n",
            "  [1. 1. 1.]]\n",
            "\n",
            " [[1. 1. 1.]\n",
            "  [1. 1. 1.]]]\n",
            "<class 'numpy.ndarray'>\n",
            "(2, 2, 3)\n"
          ]
        }
      ]
    },
    {
      "cell_type": "code",
      "metadata": {
        "id": "b_F-ccY08zzl",
        "colab": {
          "base_uri": "https://localhost:8080/"
        },
        "outputId": "d56dd759-bbd1-48d5-d208-4a2084fe1cec"
      },
      "source": [
        "x = np.zeros([2, 2, 3])    #zeros([x, y, z]): [x, y, z]에 0으로 채워진 함수를 만들어줌\n",
        "print(x)\n",
        "print(type(x))\n",
        "print(x.shape)\n",
        "x.reshape(3,2,2)           #3층, 2row, 2column"
      ],
      "execution_count": null,
      "outputs": [
        {
          "output_type": "stream",
          "name": "stdout",
          "text": [
            "[[[0. 0. 0.]\n",
            "  [0. 0. 0.]]\n",
            "\n",
            " [[0. 0. 0.]\n",
            "  [0. 0. 0.]]]\n",
            "<class 'numpy.ndarray'>\n",
            "(2, 2, 3)\n"
          ]
        },
        {
          "output_type": "execute_result",
          "data": {
            "text/plain": [
              "array([[[0., 0.],\n",
              "        [0., 0.]],\n",
              "\n",
              "       [[0., 0.],\n",
              "        [0., 0.]],\n",
              "\n",
              "       [[0., 0.],\n",
              "        [0., 0.]]])"
            ]
          },
          "metadata": {},
          "execution_count": 27
        }
      ]
    },
    {
      "cell_type": "markdown",
      "source": [
        "\n",
        "\n",
        "---\n",
        "\n"
      ],
      "metadata": {
        "id": "_ziw8eSv2d5f"
      }
    },
    {
      "cell_type": "markdown",
      "source": [
        "**random numbers**"
      ],
      "metadata": {
        "id": "awDYpmpq2efY"
      }
    },
    {
      "cell_type": "code",
      "source": [
        "np.random.normal(0, 1, [2,3,4])     #(mean, standard deviation, output shape), 2 dimension, 3 row, 4 column"
      ],
      "metadata": {
        "id": "pCVnElBgan70",
        "outputId": "5a059ac4-55c9-46a1-e849-358b833d078a",
        "colab": {
          "base_uri": "https://localhost:8080/"
        }
      },
      "execution_count": 114,
      "outputs": [
        {
          "output_type": "execute_result",
          "data": {
            "text/plain": [
              "array([[[ 0.62045825, -0.03008775, -0.90366499, -0.84504007],\n",
              "        [-1.07547244, -1.14215664,  1.47426235, -0.08710519],\n",
              "        [-0.56110859, -0.17468302,  1.1156623 ,  0.24351183]],\n",
              "\n",
              "       [[ 0.87609076, -0.18921498, -0.35904656, -0.07345962],\n",
              "        [-0.62110368, -1.41587343, -1.82972611, -0.14016347],\n",
              "        [-0.90970576,  0.16865038, -1.85930049,  0.30421925]]])"
            ]
          },
          "metadata": {},
          "execution_count": 114
        }
      ]
    },
    {
      "cell_type": "code",
      "metadata": {
        "id": "QRatmkx79otL"
      },
      "source": [
        "import matplotlib.pyplot as plt"
      ],
      "execution_count": 115,
      "outputs": []
    },
    {
      "cell_type": "code",
      "metadata": {
        "id": "z1oOAB6dShBD",
        "colab": {
          "base_uri": "https://localhost:8080/",
          "height": 786
        },
        "outputId": "da5a2952-061b-4b1d-ce71-02506dee4713"
      },
      "source": [
        "x = np.random.normal(0, 1, 100)    #1d array, 100개짜리 1d array\n",
        "print(x)\n",
        "plt.hist(x, bins=10)               #bins로 통(가로칸)을 10개로 설정\n",
        "#numpy로 만든 행렬을 matlotlib를 통해 plotting 하는 작업"
      ],
      "execution_count": 116,
      "outputs": [
        {
          "output_type": "stream",
          "name": "stdout",
          "text": [
            "[-1.41453275e+00  4.04340502e-01 -9.93990260e-03 -2.25189557e+00\n",
            " -6.97552721e-01  6.76015671e-01  3.70845296e-01 -1.94717462e-03\n",
            "  1.23863227e+00 -2.03816612e+00 -6.71931781e-01  9.56452148e-01\n",
            "  5.41505582e-01  2.99413276e-01 -1.59975702e-01 -2.37211412e+00\n",
            "  8.59137957e-01  1.04693606e-01  4.87105147e-01 -3.79505512e-01\n",
            "  5.96582048e-01  2.06839072e-01 -5.02924669e-01  1.11941891e-02\n",
            " -7.71467466e-01  8.03318723e-01  3.71275098e-01  7.80934430e-01\n",
            "  5.01839570e-01  8.66844193e-01  2.50858576e+00 -5.81907169e-01\n",
            " -2.53491036e-01  8.62179417e-01  4.20472695e-01 -1.51270863e+00\n",
            " -1.05028264e+00  7.90260988e-01  5.31952147e-01  7.60307681e-01\n",
            "  5.77908654e-01  1.17543442e+00  1.58891189e+00 -3.93678786e-01\n",
            "  1.35220329e+00  8.30016159e-01 -1.15211780e+00 -1.38472373e+00\n",
            "  1.87005897e-01 -8.23455493e-03 -2.44689795e-01 -1.74061445e-02\n",
            " -1.09104248e+00 -1.22107827e+00 -1.19603619e+00  7.24780844e-01\n",
            "  1.41636818e+00 -1.36546610e-02 -1.50403416e+00 -7.62208407e-01\n",
            " -1.37436581e+00 -2.34641805e-01 -4.87853395e-01  1.25801613e+00\n",
            " -7.57400735e-01 -8.87526952e-01 -8.00247743e-01  1.84383956e+00\n",
            "  4.21476389e-01 -9.38093001e-01  1.99525134e+00  9.43584526e-02\n",
            "  3.69021041e-02 -5.28971615e-01  2.57929838e+00  1.80670938e-01\n",
            " -3.11432592e-01  1.00388148e+00  5.89892264e-01  2.00629933e-01\n",
            "  3.52231236e-01  2.76037609e-01 -1.13801446e+00 -1.67257716e-01\n",
            " -3.49881276e-02 -1.90687310e-01 -2.89789152e-01 -6.39406720e-01\n",
            " -6.83420160e-01  8.50188803e-01  4.10423389e-02 -4.99578764e-01\n",
            "  3.38476744e-01 -6.42070526e-01 -7.31954783e-01 -1.84728103e+00\n",
            " -1.44238250e+00 -2.50598525e+00  1.57594228e-01  2.60029068e-01]\n"
          ]
        },
        {
          "output_type": "execute_result",
          "data": {
            "text/plain": [
              "(array([ 4.,  3., 10., 17., 17., 23., 16.,  5.,  3.,  2.]),\n",
              " array([-2.50598525, -1.99745689, -1.48892853, -0.98040016, -0.4718718 ,\n",
              "         0.03665656,  0.54518493,  1.05371329,  1.56224166,  2.07077002,\n",
              "         2.57929838]),\n",
              " <a list of 10 Patch objects>)"
            ]
          },
          "metadata": {},
          "execution_count": 116
        },
        {
          "output_type": "display_data",
          "data": {
            "text/plain": [
              "<Figure size 432x288 with 1 Axes>"
            ],
            "image/png": "[encoded data removed]"
          },
          "metadata": {
            "needs_background": "light"
          }
        }
      ]
    },
    {
      "cell_type": "markdown",
      "source": [
        "\n",
        "\n",
        "---\n",
        "\n"
      ],
      "metadata": {
        "id": "wXRLsiXm2oBr"
      }
    },
    {
      "cell_type": "markdown",
      "source": [
        "**sine curve**\n",
        "\n",
        "*   plt.figure(): 틀을 잡아줌\n",
        "*   plt.subplot(x, y, z): 한 셀을 그려줌(가로 x줄, 세로 y줄, z번째)\n",
        "*   plt.plot(x, y, z): 실제 plotting(x, y의 pair를 z 모양으로)\n",
        "*   theta1 = 0 ~ 360 / theta2 = 0 ~ 450 (radian)\n",
        "*   theta1, theta2, s1, s2의 개수는 100개\n",
        "*   s1, s2는 1d array\n",
        "\n"
      ],
      "metadata": {
        "id": "SEJdidus2ktn"
      }
    },
    {
      "cell_type": "code",
      "metadata": {
        "id": "HgQmRXzMShBE",
        "colab": {
          "base_uri": "https://localhost:8080/",
          "height": 283
        },
        "outputId": "7495f78c-10e5-4974-b691-dcbd9835fb86"
      },
      "source": [
        "plt.figure()\n",
        "\n",
        "theta1 = np.linspace(0, 2*np.pi, 100)             #0부터 2pi(360도)까지 100개의 숫자로 등분해라 \n",
        "s1 = np.sin(theta1)                               #=sin(100개의 각도값)\n",
        "theta2 = np.linspace(0, 2*np.pi, 100) + np.pi/2   #똑같은 과정 + 90도를 더해라\n",
        "s2 = np.sin(theta2)\n",
        "\n",
        "plt.subplot(2, 1, 1) # (rows, columns, panel number)\n",
        "plt.plot(theta1, s1, '.')\n",
        "plt.subplot(2, 1, 2) # (rows, columns, panel number)\n",
        "plt.plot(theta2, s2, '.')"
      ],
      "execution_count": 117,
      "outputs": [
        {
          "output_type": "execute_result",
          "data": {
            "text/plain": [
              "[<matplotlib.lines.Line2D at 0x7fcbe8a6c7d0>]"
            ]
          },
          "metadata": {},
          "execution_count": 117
        },
        {
          "output_type": "display_data",
          "data": {
            "text/plain": [
              "<Figure size 432x288 with 2 Axes>"
            ],
            "image/png": "[encoded data removed]"
          },
          "metadata": {
            "needs_background": "light"
          }
        }
      ]
    },
    {
      "cell_type": "code",
      "metadata": {
        "id": "TuH489v9BvQ7",
        "colab": {
          "base_uri": "https://localhost:8080/"
        },
        "outputId": "80f021a2-50ec-4eb5-aed7-4faf9a306496"
      },
      "source": [
        "np.corrcoef(s1,s2)"
      ],
      "execution_count": null,
      "outputs": [
        {
          "output_type": "execute_result",
          "data": {
            "text/plain": [
              "array([[1.00000000e+00, 2.41915449e-17],\n",
              "       [2.41915449e-17, 1.00000000e+00]])"
            ]
          },
          "metadata": {},
          "execution_count": 11
        }
      ]
    }
  ]
}