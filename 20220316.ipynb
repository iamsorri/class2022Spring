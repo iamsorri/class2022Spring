{
  "nbformat": 4,
  "nbformat_minor": 0,
  "metadata": {
    "colab": {
      "name": "20220316.ipynb",
      "provenance": [],
      "authorship_tag": "ABX9TyNEhJGs/zM9ha9QimTaTDVu",
      "include_colab_link": true
    },
    "kernelspec": {
      "name": "python3",
      "display_name": "Python 3"
    },
    "language_info": {
      "name": "python"
    }
  },
  "cells": [
    {
      "cell_type": "markdown",
      "metadata": {
        "id": "view-in-github",
        "colab_type": "text"
      },
      "source": [
        "<a href=\"https://colab.research.google.com/github/iamsorri/class2022Spring/blob/main/20220316.ipynb\" target=\"_parent\"><img src=\"https://colab.research.google.com/assets/colab-badge.svg\" alt=\"Open In Colab\"/></a>"
      ]
    },
    {
      "cell_type": "markdown",
      "source": [
        "**코딩 기초**\n",
        "*   **변수** = '문자', 숫자 ==> *variables, string*\n",
        "*   **문법** = if(조건문), for(반복문) ==> *syntax*\n",
        "*   **함수** ==> *function*\n",
        "*   **패키지**(라이브러리) = 함수들을 모아놓은 것 ==> *packages, import(불러오기)*\n",
        "\n"
      ],
      "metadata": {
        "id": "IWcB4exc7Rmj"
      }
    },
    {
      "cell_type": "markdown",
      "source": [
        "**일반 언어과 프로그래밍 언어**\n",
        "*   Natural Language = word + meaning(content)\n",
        "*   Programming Language = word(*ex.var=3*) + syntax"
      ],
      "metadata": {
        "id": "rETt0-hz3sU8"
      }
    },
    {
      "cell_type": "markdown",
      "source": [
        "\n",
        "\n",
        "---\n",
        "\n"
      ],
      "metadata": {
        "id": "_vSDbUMuZbIy"
      }
    },
    {
      "cell_type": "markdown",
      "source": [
        "# 1. Variable"
      ],
      "metadata": {
        "id": "zYIhNZlcC41Z"
      }
    },
    {
      "cell_type": "markdown",
      "source": [
        "**변수의 종류**\n",
        "*   number(*integer/float*)(숫자)\n",
        "*   string(문자)\n",
        "*   list(여러 개) ≒ *tuple(item 바꾸기 안 됨)*\n",
        "*   dict"
      ],
      "metadata": {
        "id": "GA4b-aHWELtm"
      }
    },
    {
      "cell_type": "markdown",
      "source": [
        "\n",
        "\n",
        "---\n",
        "\n"
      ],
      "metadata": {
        "id": "AWP7QmTCVrDA"
      }
    },
    {
      "cell_type": "markdown",
      "source": [
        "**print**\n",
        "*   equal(=)을 통해 assign 하기\n",
        "*   print(a)를 통해 변수의 내용 보기\n",
        "*   print(type(a))을 통해 변수의 type 보기\n",
        "\n",
        "\n",
        "\n",
        "\n",
        "\n",
        "\n",
        "\n"
      ],
      "metadata": {
        "id": "LDR2aUvnWNkL"
      }
    },
    {
      "cell_type": "code",
      "metadata": {
        "id": "goAyoU7vRheI",
        "outputId": "85ac8513-823c-47e7-a838-f052c0f024fe",
        "colab": {
          "base_uri": "https://localhost:8080/"
        }
      },
      "source": [
        "a = 1; print(type(a)) #여러 코드를 이어쓸 때에는 ;(세미콜론) 사용"
      ],
      "execution_count": 75,
      "outputs": [
        {
          "output_type": "stream",
          "name": "stdout",
          "text": [
            "<class 'int'>\n"
          ]
        }
      ]
    },
    {
      "cell_type": "code",
      "source": [
        "a = 1.0; print(type(a)); print(a) #1.0도 float, 좌측바로 확인 가능"
      ],
      "metadata": {
        "colab": {
          "base_uri": "https://localhost:8080/"
        },
        "id": "mtcaKVnHFI2t",
        "outputId": "236f948c-dc28-4dd4-bfe7-5d660874f6f6"
      },
      "execution_count": 64,
      "outputs": [
        {
          "output_type": "stream",
          "name": "stdout",
          "text": [
            "<class 'float'>\n",
            "1.0\n"
          ]
        }
      ]
    },
    {
      "cell_type": "code",
      "metadata": {
        "id": "txxnoqJuRheJ",
        "outputId": "86078876-81bb-4352-c2c9-81c82e16db22",
        "colab": {
          "base_uri": "https://localhost:8080/"
        }
      },
      "source": [
        "a = 1.1; print(type(a)) "
      ],
      "execution_count": 65,
      "outputs": [
        {
          "output_type": "stream",
          "name": "stdout",
          "text": [
            "<class 'float'>\n"
          ]
        }
      ]
    },
    {
      "cell_type": "markdown",
      "source": [
        "\n",
        "\n",
        "---\n",
        "\n"
      ],
      "metadata": {
        "id": "A1kHWngRVwzn"
      }
    },
    {
      "cell_type": "markdown",
      "source": [
        "**인덱싱**\n",
        "*   a[n] = a의 n번째 가져오기\n",
        "*   파이썬에서 n은 0부터 시작\n",
        "*   x~y번째 가져오고 싶다면 [x-1:y] *(콜론의 오른쪽에 있는건 포함하지 않음, >)*\n",
        "*   맨 뒤에서부터 -1, -2, ...\n",
        "*   리스트 안에 리스트가 있는 경우 a[x][y]\n",
        "*   list, string의 인덱싱 방법 동일\n",
        "\n",
        "\n",
        "\n"
      ],
      "metadata": {
        "id": "JLIWdHK1KZ6H"
      }
    },
    {
      "cell_type": "code",
      "metadata": {
        "id": "SyP0PB86RheL",
        "outputId": "0e02e54a-ff8f-4625-d7e5-5cc806ac19e6",
        "colab": {
          "base_uri": "https://localhost:8080/"
        }
      },
      "source": [
        "a = '123'; print(type(a)); print(a[1]) #숫자를 적을지라도, '', \"\"를 사용"
      ],
      "execution_count": 66,
      "outputs": [
        {
          "output_type": "stream",
          "name": "stdout",
          "text": [
            "<class 'str'>\n",
            "2\n"
          ]
        }
      ]
    },
    {
      "cell_type": "code",
      "metadata": {
        "id": "EKYj0dvIHPo0",
        "outputId": "97683a61-2228-4484-f449-2773eef7d4af",
        "colab": {
          "base_uri": "https://localhost:8080/"
        }
      },
      "source": [
        "a = 'hello'; print(type(a)); print(a[1])"
      ],
      "execution_count": 67,
      "outputs": [
        {
          "output_type": "stream",
          "name": "stdout",
          "text": [
            "<class 'str'>\n",
            "e\n"
          ]
        }
      ]
    },
    {
      "cell_type": "code",
      "metadata": {
        "id": "Df6PhU-tHXr2",
        "outputId": "9654e9dc-ae23-4865-c2cc-ebbae6bd0fae",
        "colab": {
          "base_uri": "https://localhost:8080/"
        }
      },
      "source": [
        "a = [1, 2, 3, 4]; print(type(a)); print(a[0])  #list = 대괄호, 숫자/문자 모두 가능"
      ],
      "execution_count": 68,
      "outputs": [
        {
          "output_type": "stream",
          "name": "stdout",
          "text": [
            "<class 'list'>\n",
            "1\n"
          ]
        }
      ]
    },
    {
      "cell_type": "code",
      "source": [
        "a = [1, 2, 3, 4, 5, 6, 7, 8, 9, 10]  #콜론 뒤의 -1의 위치인 10은 포함되지 않음.\n",
        "print(a[:-1])\n",
        "print(a[4:])\n",
        "print(a[:])"
      ],
      "metadata": {
        "colab": {
          "base_uri": "https://localhost:8080/"
        },
        "id": "b6w04DpzNm2F",
        "outputId": "4cca8453-c236-46ac-d1ce-80dbd91e6b06"
      },
      "execution_count": 69,
      "outputs": [
        {
          "output_type": "stream",
          "name": "stdout",
          "text": [
            "[1, 2, 3, 4, 5, 6, 7, 8, 9]\n",
            "[5, 6, 7, 8, 9, 10]\n",
            "[1, 2, 3, 4, 5, 6, 7, 8, 9, 10]\n"
          ]
        }
      ]
    },
    {
      "cell_type": "code",
      "metadata": {
        "id": "DfS-gknCRheL",
        "outputId": "01333395-99bc-4033-de07-0b7a4e7176e0",
        "colab": {
          "base_uri": "https://localhost:8080/"
        }
      },
      "source": [
        "a = [1,'a', [3, '4']]; print(type(a)); print(a[0]); print(a[1]); print(a[2]); print(a[2][1])  \n",
        "#list안에 list가 들어있음(3번째 item, 2 item짜리 list)"
      ],
      "execution_count": 70,
      "outputs": [
        {
          "output_type": "stream",
          "name": "stdout",
          "text": [
            "<class 'list'>\n",
            "1\n",
            "a\n",
            "[3, '4']\n",
            "4\n"
          ]
        }
      ]
    },
    {
      "cell_type": "code",
      "source": [
        "a[2][1]  #a의 2번째 중, 1번째에 있는 것 = 3번째 [3, '4'] 중, 2번째 '4'"
      ],
      "metadata": {
        "colab": {
          "base_uri": "https://localhost:8080/",
          "height": 35
        },
        "id": "6Ai6VqmPQgHL",
        "outputId": "126883bb-8408-49c5-9a7a-8417ed55adf6"
      },
      "execution_count": 71,
      "outputs": [
        {
          "output_type": "execute_result",
          "data": {
            "text/plain": [
              "'4'"
            ],
            "application/vnd.google.colaboratory.intrinsic+json": {
              "type": "string"
            }
          },
          "metadata": {},
          "execution_count": 71
        }
      ]
    },
    {
      "cell_type": "code",
      "source": [
        "a = 'abcdefg1234'  #list와 string은 인덱싱 방법 동일\n",
        "print(type(a))\n",
        "print(a[3:-1])"
      ],
      "metadata": {
        "colab": {
          "base_uri": "https://localhost:8080/"
        },
        "id": "3ujYMFNGSEyx",
        "outputId": "673d840e-cdfc-447d-bef9-a6181406c64b"
      },
      "execution_count": 72,
      "outputs": [
        {
          "output_type": "stream",
          "name": "stdout",
          "text": [
            "<class 'str'>\n",
            "defg123\n"
          ]
        }
      ]
    },
    {
      "cell_type": "markdown",
      "source": [
        "\n",
        "\n",
        "---\n",
        "\n"
      ],
      "metadata": {
        "id": "SnLt4WrlV1r2"
      }
    },
    {
      "cell_type": "markdown",
      "source": [
        "**dict**\n",
        "*   중괄호\n",
        "*   key + value, 쌍으로 되어 있음\n",
        "*   key를 통해 value에 access\n",
        "*   항목 추가\n",
        "\n",
        "\n",
        "\n"
      ],
      "metadata": {
        "id": "rl1rbzdwUTmm"
      }
    },
    {
      "cell_type": "code",
      "metadata": {
        "id": "2sivfloGRheM",
        "outputId": "160850ad-7d71-48d9-f1ce-18ff4e2cccda",
        "colab": {
          "base_uri": "https://localhost:8080/"
        }
      },
      "source": [
        "a =\t{\"a\": \"apple\", \"b\": \"orange\", \"c\": 2014}\n",
        "print(type(a))\n",
        "print(a[\"a\"])"
      ],
      "execution_count": 73,
      "outputs": [
        {
          "output_type": "stream",
          "name": "stdout",
          "text": [
            "<class 'dict'>\n",
            "apple\n"
          ]
        }
      ]
    },
    {
      "cell_type": "code",
      "source": [
        "a = {123: \"hong\", 456: \"sol\", 'h': 2002}\n",
        "a[123]"
      ],
      "metadata": {
        "colab": {
          "base_uri": "https://localhost:8080/",
          "height": 35
        },
        "id": "n-F1IUDnVF3m",
        "outputId": "5079ff59-54db-41f7-8c59-2d1af22f1c29"
      },
      "execution_count": 74,
      "outputs": [
        {
          "output_type": "execute_result",
          "data": {
            "text/plain": [
              "'hong'"
            ],
            "application/vnd.google.colaboratory.intrinsic+json": {
              "type": "string"
            }
          },
          "metadata": {},
          "execution_count": 74
        }
      ]
    },
    {
      "cell_type": "markdown",
      "source": [
        "\n",
        "\n",
        "---\n",
        "\n"
      ],
      "metadata": {
        "id": "OqsS39NfZsdb"
      }
    },
    {
      "cell_type": "markdown",
      "source": [
        "**String과 List의 유사성—인덱스**"
      ],
      "metadata": {
        "id": "7gG9FTuGakgg"
      }
    },
    {
      "cell_type": "code",
      "metadata": {
        "id": "zwpWU02YmAur",
        "outputId": "9b8e41cc-7e93-4894-b8f3-4358e4112b8e",
        "colab": {
          "base_uri": "https://localhost:8080/"
        }
      },
      "source": [
        "s = 'abcdef'\n",
        "print(s[0], s[5], s[-1], s[-6])\n",
        "print(s[1:3], s[1:], s[:3], s[:])  #콜론 뒤 숫자보다 하나 더 전까지(3->2의 위치)"
      ],
      "execution_count": 76,
      "outputs": [
        {
          "output_type": "stream",
          "name": "stdout",
          "text": [
            "a f f a\n",
            "bc bcdef abc abcdef\n"
          ]
        }
      ]
    },
    {
      "cell_type": "code",
      "metadata": {
        "id": "mpkdZBeWmAux",
        "outputId": "37a646b5-23d9-49bc-bcf3-163731231b6f",
        "colab": {
          "base_uri": "https://localhost:8080/"
        }
      },
      "source": [
        "n = [100, 200, 300]\n",
        "print(n[0], n[2], n[-1], n[-3])\n",
        "print(n[1:2], n[1:], n[:2], n[:])"
      ],
      "execution_count": 78,
      "outputs": [
        {
          "output_type": "stream",
          "name": "stdout",
          "text": [
            "100 300 300 100\n",
            "[200] [200, 300] [100, 200] [100, 200, 300]\n"
          ]
        }
      ]
    },
    {
      "cell_type": "code",
      "metadata": {
        "id": "a45rgiNMmAuy",
        "outputId": "9b1a4417-a513-4f77-8ae9-64352e6da015"
      },
      "source": [
        "s[1]+s[3]+s[4:]*10  #string(문자)임에도 불구하고 +를 쓸 수 있음, (ef*10)"
      ],
      "execution_count": null,
      "outputs": [
        {
          "data": {
            "text/plain": [
              "'bdefefefefefefefefefef'"
            ]
          },
          "execution_count": 5,
          "metadata": {},
          "output_type": "execute_result"
        }
      ]
    },
    {
      "cell_type": "markdown",
      "source": [
        "\n",
        "\n",
        "---\n",
        "\n"
      ],
      "metadata": {
        "id": "RRnaJ5Qod6Mk"
      }
    },
    {
      "cell_type": "markdown",
      "source": [
        "# 2. Function"
      ],
      "metadata": {
        "id": "8q2nt-NneD0T"
      }
    },
    {
      "cell_type": "markdown",
      "source": [
        "**함수**\n",
        "*   '~를 입력하면 ~을 하라'\n",
        "*   함수(입력) ==> 코드 상에서 괄호가 보이면 그건 함수임\n",
        "*   ex. print(s[0], s[5], s[-2]), len(s)\n",
        "\n",
        "\n",
        "\n"
      ],
      "metadata": {
        "id": "_biSfKdydWFO"
      }
    },
    {
      "cell_type": "markdown",
      "source": [
        "\n",
        "\n",
        "---\n",
        "\n"
      ],
      "metadata": {
        "id": "C93AMd6WltvT"
      }
    },
    {
      "cell_type": "code",
      "metadata": {
        "id": "ulnefmnFmAuy",
        "outputId": "bca4f235-ff1e-41b0-f92e-80ef6ac97b62",
        "colab": {
          "base_uri": "https://localhost:8080/"
        }
      },
      "source": [
        "len(s)  #len() = 길이를 나타내는 함수"
      ],
      "execution_count": 79,
      "outputs": [
        {
          "output_type": "execute_result",
          "data": {
            "text/plain": [
              "6"
            ]
          },
          "metadata": {},
          "execution_count": 79
        }
      ]
    },
    {
      "cell_type": "code",
      "metadata": {
        "id": "IevwoMpmmAuz",
        "outputId": "69636955-73a9-49f7-ea43-efdb38a982c1"
      },
      "source": [
        "s.upper()  #대문자로 만들어주는 함수 (s = abcdef)"
      ],
      "execution_count": null,
      "outputs": [
        {
          "data": {
            "text/plain": [
              "'ABCDEF'"
            ]
          },
          "execution_count": 7,
          "metadata": {},
          "output_type": "execute_result"
        }
      ]
    },
    {
      "cell_type": "code",
      "metadata": {
        "id": "LRU0Yt1amAuz",
        "outputId": "b410b0db-00ca-4f80-ec60-ff7e856ddeb3",
        "colab": {
          "base_uri": "https://localhost:8080/",
          "height": 35
        }
      },
      "source": [
        "s = ' this is a house built this year.\\n' \t\n",
        "s  #셀의 맨 마지막 줄에서는 print를 쓰지 않아도 됨 "
      ],
      "execution_count": 81,
      "outputs": [
        {
          "output_type": "execute_result",
          "data": {
            "text/plain": [
              "' this is a house built this year.\\n'"
            ],
            "application/vnd.google.colaboratory.intrinsic+json": {
              "type": "string"
            }
          },
          "metadata": {},
          "execution_count": 81
        }
      ]
    },
    {
      "cell_type": "code",
      "metadata": {
        "id": "nMHteyDfmAu0",
        "outputId": "2f55caa2-dd53-4fac-e876-05ca87c5d63d"
      },
      "source": [
        "result = s.find('house')   #s.find = s에서 입력값을 찾아라\n",
        "result  "
      ],
      "execution_count": null,
      "outputs": [
        {
          "data": {
            "text/plain": [
              "11"
            ]
          },
          "execution_count": 11,
          "metadata": {},
          "output_type": "execute_result"
        }
      ]
    },
    {
      "cell_type": "code",
      "metadata": {
        "id": "gv82JUX7mAu0",
        "outputId": "18540837-5eb4-4cea-f087-2f7fd1581afa"
      },
      "source": [
        "result = s.find('this')\t  #제일 먼저 나오는걸 찾아줌 \n",
        "result  "
      ],
      "execution_count": null,
      "outputs": [
        {
          "data": {
            "text/plain": [
              "1"
            ]
          },
          "execution_count": 12,
          "metadata": {},
          "output_type": "execute_result"
        }
      ]
    },
    {
      "cell_type": "code",
      "metadata": {
        "id": "ua3TjwLcmAu2",
        "outputId": "ac192f91-46ce-4ff0-a040-f0d63541124e"
      },
      "source": [
        "s = s.strip()      \t          # a copy of s without leading or trailing whitespace\n",
        "s   #s.strip = s에서 줄바꿈 표시 같은 whitespace 지워줌"
      ],
      "execution_count": null,
      "outputs": [
        {
          "data": {
            "text/plain": [
              "'this is a house built this year.'"
            ]
          },
          "execution_count": 14,
          "metadata": {},
          "output_type": "execute_result"
        }
      ]
    },
    {
      "cell_type": "code",
      "metadata": {
        "id": "l37g5DqQmAu2",
        "outputId": "c1eefe2c-0edc-4678-c67b-b8306ca13471"
      },
      "source": [
        "tokens = s.split(' ')\t        # split s into a list wherever a t is found (whitespace by default)\n",
        "tokens  #s.split = 빈칸 입력받음, 빈칸을 중심으로 쪼개서 list로 만들어라(단어 만들기)"
      ],
      "execution_count": null,
      "outputs": [
        {
          "data": {
            "text/plain": [
              "['this', 'is', 'a', 'house', 'built', 'this', 'year.']"
            ]
          },
          "execution_count": 15,
          "metadata": {},
          "output_type": "execute_result"
        }
      ]
    },
    {
      "cell_type": "code",
      "metadata": {
        "id": "64sewKE8mAu2",
        "outputId": "e2e8dc1f-6b83-41ef-b746-7712099f2776"
      },
      "source": [
        "s = ' '.join(tokens)\t        # combine the words of the text into a string using s as the glue\n",
        "s  #빈칸을 이용해서, 위 list들을 모두 합쳐라"
      ],
      "execution_count": null,
      "outputs": [
        {
          "data": {
            "text/plain": [
              "'this is a house built this year.'"
            ]
          },
          "execution_count": 16,
          "metadata": {},
          "output_type": "execute_result"
        }
      ]
    },
    {
      "cell_type": "code",
      "metadata": {
        "id": "jfiqbBiImAu3",
        "outputId": "13300aff-f13a-4f48-c6ec-cbc5d01dd55b"
      },
      "source": [
        "s = s.replace('this', 'that') # replace instances of t with u inside s\n",
        "s  #s.replace = s에서 this를 that으로 바꿔라"
      ],
      "execution_count": null,
      "outputs": [
        {
          "data": {
            "text/plain": [
              "'that is a house built that year.'"
            ]
          },
          "execution_count": 17,
          "metadata": {},
          "output_type": "execute_result"
        }
      ]
    },
    {
      "cell_type": "markdown",
      "source": [
        "\n",
        "\n",
        "---\n",
        "\n"
      ],
      "metadata": {
        "id": "pqDkawLYZtwk"
      }
    },
    {
      "cell_type": "markdown",
      "source": [
        "**Funtion을 만드는 법**\n",
        "1.  define 함수이름(입력변수1, 입력변수2): *(콜론 중요)*\n",
        "2.  함수 정의에 대한 내용 (ex. c=a+b)\n",
        "3.  return 출력변수명1, 출력변수명2\n",
        "\n",
        "> 함수는 정의가 선행돼야 하고, 입출력의 관계가 선택적\n",
        "\n"
      ],
      "metadata": {
        "id": "tiEmiY8sZvEG"
      }
    },
    {
      "cell_type": "code",
      "metadata": {
        "id": "hpc_mhgAye2S"
      },
      "source": [
        "def add(a,b):  #정의와 사용은 다름. 우리가 print를 쓸 수 있는 것도 누군가 정의를 해놨기 때문\n",
        "  return a+b   \n",
        "\n",
        "def subtract(a,b):\n",
        "  return a-b\n",
        "\n",
        "def multiply(a,b):\n",
        "  return a*b\n",
        "\n",
        "def divide(a,b):\n",
        "  return a/b"
      ],
      "execution_count": 84,
      "outputs": []
    },
    {
      "cell_type": "code",
      "metadata": {
        "colab": {
          "base_uri": "https://localhost:8080/"
        },
        "id": "8Y4oa05Eykn4",
        "outputId": "5a1deea8-07b3-40d5-ea0e-5c66e28f0962"
      },
      "source": [
        "c = add(1,2); print(c)\n",
        "c = subtract(1,2); print(c)\n",
        "c = multiply(1,2); print(c)\n",
        "c = divide(1,2); print(c)"
      ],
      "execution_count": 85,
      "outputs": [
        {
          "output_type": "stream",
          "name": "stdout",
          "text": [
            "3\n",
            "-1\n",
            "2\n",
            "0.5\n"
          ]
        }
      ]
    },
    {
      "cell_type": "code",
      "source": [
        "def sol(a):\n",
        "  b = a + 530  #이렇게 중간 단계를 만들어도 됨\n",
        "  return b"
      ],
      "metadata": {
        "id": "oMI0Dtiji4yk"
      },
      "execution_count": 87,
      "outputs": []
    },
    {
      "cell_type": "code",
      "source": [
        "x = sol(3); print(x)"
      ],
      "metadata": {
        "colab": {
          "base_uri": "https://localhost:8080/"
        },
        "id": "tSZFakx8a8lR",
        "outputId": "c57f7222-6567-40c2-e965-9df99c096b29"
      },
      "execution_count": 89,
      "outputs": [
        {
          "output_type": "stream",
          "name": "stdout",
          "text": [
            "533\n"
          ]
        }
      ]
    },
    {
      "cell_type": "markdown",
      "source": [
        "\n",
        "\n",
        "---\n",
        "\n"
      ],
      "metadata": {
        "id": "FvKXr_Qtly9b"
      }
    },
    {
      "cell_type": "markdown",
      "source": [
        "# 3. Syntax"
      ],
      "metadata": {
        "id": "dfRMmX5UkD7X"
      }
    },
    {
      "cell_type": "markdown",
      "source": [
        "**문법의 종류**\n",
        "*   조건문(if)\n",
        "*   반복문(for/while)\n",
        "\n"
      ],
      "metadata": {
        "id": "cxFJKpmnkKfr"
      }
    },
    {
      "cell_type": "markdown",
      "source": [
        "\n",
        "\n",
        "---\n",
        "\n"
      ],
      "metadata": {
        "id": "CQD_EQokl5Ab"
      }
    },
    {
      "cell_type": "markdown",
      "source": [
        "**for**\n",
        "*   for 밑의 공간은 띄어주어야 밑줄의 함수가 for 구문에 들어있는 걸로 해석됨\n",
        "*   a에 있는 것들을 처음부터 하나하나씩 아래 i에 넣어서 돌린다(*for-loop*)\n",
        "\n",
        "\n"
      ],
      "metadata": {
        "id": "u8Jf7Z7Bl8Tn"
      }
    },
    {
      "cell_type": "code",
      "metadata": {
        "id": "Fu2mzgrqSLAU",
        "outputId": "a3ff0a73-760e-40a2-94c3-41eab6f41bd0",
        "colab": {
          "base_uri": "https://localhost:8080/"
        }
      },
      "source": [
        "a = [1, 2, 3, 4]  #list를 바로 넣는 방법\n",
        "for i in a:\n",
        "    print(i)"
      ],
      "execution_count": 90,
      "outputs": [
        {
          "output_type": "stream",
          "name": "stdout",
          "text": [
            "1\n",
            "2\n",
            "3\n",
            "4\n"
          ]
        }
      ]
    },
    {
      "cell_type": "code",
      "metadata": {
        "id": "XSJxLJVCSLAW",
        "outputId": "dd6d5833-bdb1-458e-ff24-1aceb4670544",
        "colab": {
          "base_uri": "https://localhost:8080/"
        }
      },
      "source": [
        "a = [1, 2, 3, 4]  #in 다음에 range를 써서 index를 이용하는 방법\n",
        "for i in range(len(a)):  #len(a)=4, range(4)=[0, 1, 2, 3]의 list가 만들어짐\n",
        "    print(a[i])   #[0, 1, 2, 3]을 i에 하나씩 넣고 돌린다 ==> a[0]; a[1]; a[2]; a[3]"
      ],
      "execution_count": 91,
      "outputs": [
        {
          "output_type": "stream",
          "name": "stdout",
          "text": [
            "1\n",
            "2\n",
            "3\n",
            "4\n"
          ]
        }
      ]
    },
    {
      "cell_type": "code",
      "metadata": {
        "id": "VTfxVRdgSLAW",
        "outputId": "7b430ba8-015e-4296-c883-ce2b3f9ed43b"
      },
      "source": [
        "a = ['red', 'green', 'blue', 'purple']  #list에 string이 들어감\n",
        "for i in a:\n",
        "    print(i)"
      ],
      "execution_count": null,
      "outputs": [
        {
          "output_type": "stream",
          "text": [
            "red\n",
            "green\n",
            "blue\n",
            "purple\n"
          ],
          "name": "stdout"
        }
      ]
    },
    {
      "cell_type": "code",
      "metadata": {
        "id": "Vc-7pW85SLAW",
        "outputId": "9394e177-c8c8-44db-ff28-1e9566072bb3"
      },
      "source": [
        "a = ['red', 'green', 'blue', 'purple']\n",
        "for i in range(len(a)):  #len(a)=4, range(len(a))=[0, 1, 2, 3]\n",
        "    print(a[i])  #list에서 a[0], a[1], a[2], a[3]"
      ],
      "execution_count": null,
      "outputs": [
        {
          "output_type": "stream",
          "text": [
            "red\n",
            "green\n",
            "blue\n",
            "purple\n"
          ],
          "name": "stdout"
        }
      ]
    },
    {
      "cell_type": "markdown",
      "source": [
        "\n",
        "\n",
        "---\n",
        "\n"
      ],
      "metadata": {
        "id": "_4_M2g1UqvYG"
      }
    },
    {
      "cell_type": "markdown",
      "source": [
        "**if**\n",
        "*  맞다면(==), 아니라면(!= or else)\n",
        "*   if 밑의 공간은 띄어주어야 밑줄의 함수가 if 구문에 들어있는 걸로 해석됨\n",
        "\n",
        "\n"
      ],
      "metadata": {
        "id": "nalAauVmqsYI"
      }
    },
    {
      "cell_type": "code",
      "metadata": {
        "id": "dD-ephD3SLAX",
        "outputId": "1689c2de-912b-4ca5-b257-eecf82db2048",
        "colab": {
          "base_uri": "https://localhost:8080/"
        }
      },
      "source": [
        "a = 0\n",
        "if a == 0:\n",
        "    print(a)\n",
        "else:\n",
        "    print(a+1)"
      ],
      "execution_count": 92,
      "outputs": [
        {
          "output_type": "stream",
          "name": "stdout",
          "text": [
            "0\n"
          ]
        }
      ]
    },
    {
      "cell_type": "code",
      "source": [
        "a = 1\n",
        "if a != 0:\n",
        "    print(a-1)"
      ],
      "metadata": {
        "colab": {
          "base_uri": "https://localhost:8080/"
        },
        "id": "0Nz7I29FrnQG",
        "outputId": "f9b8b4d1-6c73-4cca-8b2c-0886b1a6a696"
      },
      "execution_count": 94,
      "outputs": [
        {
          "output_type": "stream",
          "name": "stdout",
          "text": [
            "0\n"
          ]
        }
      ]
    },
    {
      "cell_type": "markdown",
      "source": [
        "\n",
        "\n",
        "---\n",
        "\n"
      ],
      "metadata": {
        "id": "wjAPX4rhryBt"
      }
    },
    {
      "cell_type": "markdown",
      "source": [
        "**syntax 중첩**\n",
        "*   맨 위는 fix, 아래부터 한다고 생각"
      ],
      "metadata": {
        "id": "i2fhreZur0Vi"
      }
    },
    {
      "cell_type": "code",
      "metadata": {
        "id": "M0AZaDMvSLAY",
        "outputId": "aadd8123-bb03-4cb9-b634-fa736b0b1816",
        "colab": {
          "base_uri": "https://localhost:8080/"
        }
      },
      "source": [
        "for i in range(1, 3):      #range(x, y) = [x, x+1, ..., y-1], range(1, 3) = [1, 2]\n",
        "    for j in range(3, 5):  #range(3, 5) = [3, 4]\n",
        "        print(i*j)         #1*3, 1*4, 2*3, 2*4"
      ],
      "execution_count": 97,
      "outputs": [
        {
          "output_type": "stream",
          "name": "stdout",
          "text": [
            "3\n",
            "4\n",
            "6\n",
            "8\n"
          ]
        }
      ]
    },
    {
      "cell_type": "code",
      "metadata": {
        "id": "ZPpZmVIHSLAY",
        "outputId": "6e185cde-2f75-4cb3-e606-50e146f6123b",
        "colab": {
          "base_uri": "https://localhost:8080/"
        }
      },
      "source": [
        "for i in range(1, 3):      #[1, 2]\n",
        "    for j in range(3, 5):  #[3, 4]\n",
        "        if j >=4:          #j=4일 때만 가능\n",
        "            print(i*j)     #1*4, 2*4"
      ],
      "execution_count": 98,
      "outputs": [
        {
          "output_type": "stream",
          "name": "stdout",
          "text": [
            "4\n",
            "8\n"
          ]
        }
      ]
    },
    {
      "cell_type": "markdown",
      "source": [
        "\n",
        "\n",
        "---\n",
        "\n"
      ],
      "metadata": {
        "id": "jZyIc2CltQjF"
      }
    },
    {
      "cell_type": "markdown",
      "source": [
        "**Comphrehension**\n",
        "\n",
        "> for, if가 list/dict 안으로 들어옴\n",
        "\n",
        "*   a가 i로 들어가서(i가 a를 받아서) for를 돔으로써 이 조건을 만족시키는 list를 만들어라\n",
        "\n",
        "\n",
        "\n",
        "\n"
      ],
      "metadata": {
        "id": "7vlyMhWdtRct"
      }
    },
    {
      "cell_type": "code",
      "metadata": {
        "id": "JQXk5vi0SLAY",
        "outputId": "cd3306f3-6d6d-446e-dd4a-f7f4e11dd967"
      },
      "source": [
        "a = [1, 2, 3, 4]\n",
        "b = [i for i in a if i >=2]\n",
        "b"
      ],
      "execution_count": null,
      "outputs": [
        {
          "output_type": "execute_result",
          "data": {
            "text/plain": [
              "[2, 3, 4]"
            ]
          },
          "metadata": {
            "tags": []
          },
          "execution_count": 12
        }
      ]
    },
    {
      "cell_type": "code",
      "metadata": {
        "id": "MDmBGZ3LSLAZ",
        "outputId": "bd06f885-7334-43d9-d92d-848c615f6771"
      },
      "source": [
        "a = ['red', 'green', 'blue', 'purple']\n",
        "b = [i for i in a if len(i) >=4]  #len('red')=3\n",
        "b"
      ],
      "execution_count": null,
      "outputs": [
        {
          "output_type": "execute_result",
          "data": {
            "text/plain": [
              "['green', 'blue', 'purple']"
            ]
          },
          "metadata": {
            "tags": []
          },
          "execution_count": 13
        }
      ]
    },
    {
      "cell_type": "code",
      "source": [
        "a = ['red', 'green', 'blue', 'purple']\n",
        "b = [1, 2, 3, 4]\n",
        "c = {a[i]:b[i] for i in range(4)}  \n",
        "c\n",
        "#range(4)=[0, 1, 2, 3]\n",
        "#{a[0]:b[0], a[1]:b[1], a[2]:b[2], a[3]:b[3]}\n",
        "#{'red':1, 'green':2, 'blue':3, 'purple':4}"
      ],
      "metadata": {
        "id": "Z6JMoDOHu48B",
        "outputId": "66568811-eb9a-41a9-e25e-f70019b8cf3e",
        "colab": {
          "base_uri": "https://localhost:8080/"
        }
      },
      "execution_count": 99,
      "outputs": [
        {
          "output_type": "execute_result",
          "data": {
            "text/plain": [
              "{'blue': 3, 'green': 2, 'purple': 4, 'red': 1}"
            ]
          },
          "metadata": {},
          "execution_count": 99
        }
      ]
    }
  ]
}