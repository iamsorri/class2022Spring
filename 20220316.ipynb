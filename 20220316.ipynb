{
  "nbformat": 4,
  "nbformat_minor": 0,
  "metadata": {
    "colab": {
      "name": "20220316.ipynb",
      "provenance": [],
      "collapsed_sections": [],
      "authorship_tag": "ABX9TyMQh5bYNaCKRnXvowNacxVR",
      "include_colab_link": true
    },
    "kernelspec": {
      "name": "python3",
      "display_name": "Python 3"
    },
    "language_info": {
      "name": "python"
    }
  },
  "cells": [
    {
      "cell_type": "markdown",
      "metadata": {
        "id": "view-in-github",
        "colab_type": "text"
      },
      "source": [
        "<a href=\"https://colab.research.google.com/github/iamsorri/class2022Spring/blob/main/20220316.ipynb\" target=\"_parent\"><img src=\"https://colab.research.google.com/assets/colab-badge.svg\" alt=\"Open In Colab\"/></a>"
      ]
    },
    {
      "cell_type": "markdown",
      "source": [
        "**코딩 기초**\n",
        "*   **변수** = '문자', 숫자 ==> *variables, string*\n",
        "*   **문법** = if(조건문), for(반복문) ==> *syntax*\n",
        "*   **함수** ==> *function*\n",
        "*   **패키지**(라이브러리) = 함수들을 모아놓은 것 ==> *packages, import(불러오기)*\n",
        "\n"
      ],
      "metadata": {
        "id": "IWcB4exc7Rmj"
      }
    },
    {
      "cell_type": "markdown",
      "source": [
        "**일반 언어과 프로그래밍 언어**\n",
        "*   Natural Language = word + meaning(content)\n",
        "*   Programming Language = word(*ex.var=3*) + syntax"
      ],
      "metadata": {
        "id": "rETt0-hz3sU8"
      }
    },
    {
      "cell_type": "markdown",
      "source": [
        "# Variables"
      ],
      "metadata": {
        "id": "zYIhNZlcC41Z"
      }
    },
    {
      "cell_type": "markdown",
      "source": [
        "\n",
        "\n",
        "---\n",
        "\n"
      ],
      "metadata": {
        "id": "AWP7QmTCVrDA"
      }
    },
    {
      "cell_type": "markdown",
      "source": [
        "**변수**\n",
        "*   number(*integer/float*)(숫자)\n",
        "*   string(문자)\n",
        "*   list(여러 개) ≒ *tuple(item 바꾸기 안 됨)*\n",
        "*   dict"
      ],
      "metadata": {
        "id": "GA4b-aHWELtm"
      }
    },
    {
      "cell_type": "markdown",
      "source": [
        "1.   equal(=)을 통해 assign 하기\n",
        "2.   print(a)를 통해 변수의 내용 보기\n",
        "1.   print(type(a))을 통해 변수의 type 보기\n",
        "\n",
        "\n",
        "\n",
        "\n",
        "\n",
        "\n",
        "\n"
      ],
      "metadata": {
        "id": "LDR2aUvnWNkL"
      }
    },
    {
      "cell_type": "code",
      "metadata": {
        "id": "goAyoU7vRheI",
        "outputId": "da11a69c-2875-43ae-c3d0-45f1ddb766af",
        "colab": {
          "base_uri": "https://localhost:8080/"
        }
      },
      "source": [
        "a = 1; print(type(a)) #여러 코드를 이어쓸 때에는 ;(세미콜론) 사용"
      ],
      "execution_count": null,
      "outputs": [
        {
          "output_type": "stream",
          "name": "stdout",
          "text": [
            "<class 'int'>\n"
          ]
        }
      ]
    },
    {
      "cell_type": "code",
      "source": [
        "a = 1.0; print(type(a)); print(a) #1.0도 float, 좌측바로 확인 가능"
      ],
      "metadata": {
        "colab": {
          "base_uri": "https://localhost:8080/"
        },
        "id": "mtcaKVnHFI2t",
        "outputId": "6fd88d96-9957-4eb2-a8a6-b337c70ffda2"
      },
      "execution_count": null,
      "outputs": [
        {
          "output_type": "stream",
          "name": "stdout",
          "text": [
            "<class 'float'>\n",
            "1.0\n"
          ]
        }
      ]
    },
    {
      "cell_type": "code",
      "metadata": {
        "id": "txxnoqJuRheJ",
        "outputId": "58b76b71-5bec-45a0-cdbb-47212b15e7d0",
        "colab": {
          "base_uri": "https://localhost:8080/"
        }
      },
      "source": [
        "a = 1.1; print(type(a)) "
      ],
      "execution_count": null,
      "outputs": [
        {
          "output_type": "stream",
          "name": "stdout",
          "text": [
            "<class 'float'>\n"
          ]
        }
      ]
    },
    {
      "cell_type": "markdown",
      "source": [
        "\n",
        "\n",
        "---\n",
        "\n"
      ],
      "metadata": {
        "id": "A1kHWngRVwzn"
      }
    },
    {
      "cell_type": "markdown",
      "source": [
        "**인덱싱**\n",
        "*   a[n] = a의 n번째 가져오기\n",
        "*   파이썬에서 n은 0부터 시작\n",
        "*   x~y번째 가져오고 싶다면 [x-1:y] *(콜론의 오른쪽에 있는건 포함하지 않음, >)*\n",
        "*   맨 뒤에서부터 -1, -2, ...\n",
        "*   리스트 안에 리스트가 있는 경우 a[x][y]\n",
        "*   list, string의 인덱싱 방법 동일\n",
        "\n",
        "\n",
        "\n"
      ],
      "metadata": {
        "id": "JLIWdHK1KZ6H"
      }
    },
    {
      "cell_type": "code",
      "metadata": {
        "id": "SyP0PB86RheL",
        "outputId": "7a9960b0-e2e9-4cd7-97c1-22a736e6c0d6",
        "colab": {
          "base_uri": "https://localhost:8080/"
        }
      },
      "source": [
        "a = '123'; print(type(a)); print(a[1]) #숫자를 적을지라도, '', \"\"를 사용"
      ],
      "execution_count": null,
      "outputs": [
        {
          "output_type": "stream",
          "name": "stdout",
          "text": [
            "<class 'str'>\n",
            "2\n"
          ]
        }
      ]
    },
    {
      "cell_type": "code",
      "metadata": {
        "id": "EKYj0dvIHPo0",
        "outputId": "ff4d62ee-32d9-4530-d6d9-daa39e567bee",
        "colab": {
          "base_uri": "https://localhost:8080/"
        }
      },
      "source": [
        "a = 'hello'; print(type(a)); print(a[1])"
      ],
      "execution_count": null,
      "outputs": [
        {
          "output_type": "stream",
          "name": "stdout",
          "text": [
            "<class 'str'>\n",
            "e\n"
          ]
        }
      ]
    },
    {
      "cell_type": "code",
      "metadata": {
        "id": "Df6PhU-tHXr2",
        "outputId": "3405a776-d33e-49e6-90cb-e157ef686470",
        "colab": {
          "base_uri": "https://localhost:8080/"
        }
      },
      "source": [
        "a = [1, 2, 3, 4]; print(type(a)); print(a[0])  #list = 대괄호, 숫자/문자 모두 가능"
      ],
      "execution_count": null,
      "outputs": [
        {
          "output_type": "stream",
          "name": "stdout",
          "text": [
            "<class 'list'>\n",
            "1\n"
          ]
        }
      ]
    },
    {
      "cell_type": "code",
      "source": [
        "a = [1, 2, 3, 4, 5, 6, 7, 8, 9, 10]  #콜론 뒤의 -1의 위치인 10은 포함되지 않음.\n",
        "print(a[:-1])\n",
        "print(a[4:])\n",
        "print(a[:])"
      ],
      "metadata": {
        "colab": {
          "base_uri": "https://localhost:8080/"
        },
        "id": "b6w04DpzNm2F",
        "outputId": "516d25f9-afdc-4f42-d780-1d361a85be75"
      },
      "execution_count": null,
      "outputs": [
        {
          "output_type": "stream",
          "name": "stdout",
          "text": [
            "[1, 2, 3, 4, 5, 6, 7, 8, 9]\n",
            "[5, 6, 7, 8, 9, 10]\n",
            "[1, 2, 3, 4, 5, 6, 7, 8, 9, 10]\n"
          ]
        }
      ]
    },
    {
      "cell_type": "code",
      "metadata": {
        "id": "DfS-gknCRheL",
        "outputId": "8d85b964-99a6-4d4b-da28-e586b5a47681",
        "colab": {
          "base_uri": "https://localhost:8080/"
        }
      },
      "source": [
        "a = [1,'a', [3, '4']]; print(type(a)); print(a[0]); print(a[1]); print(a[2]); print(a[2][1])  \n",
        "#list안에 list가 들어있음(3번째 item, 2 item짜리 list)"
      ],
      "execution_count": null,
      "outputs": [
        {
          "output_type": "stream",
          "name": "stdout",
          "text": [
            "<class 'list'>\n",
            "1\n",
            "a\n",
            "[3, '4']\n",
            "4\n"
          ]
        }
      ]
    },
    {
      "cell_type": "code",
      "source": [
        "a[2][1]  #a의 2번째 중, 1번째에 있는 것 = 3번째 [3, '4'] 중, 2번째 '4'"
      ],
      "metadata": {
        "colab": {
          "base_uri": "https://localhost:8080/",
          "height": 35
        },
        "id": "6Ai6VqmPQgHL",
        "outputId": "3617a543-b6e4-4fb7-c5bc-8e48482ada84"
      },
      "execution_count": null,
      "outputs": [
        {
          "output_type": "execute_result",
          "data": {
            "text/plain": [
              "'4'"
            ],
            "application/vnd.google.colaboratory.intrinsic+json": {
              "type": "string"
            }
          },
          "metadata": {},
          "execution_count": 47
        }
      ]
    },
    {
      "cell_type": "code",
      "source": [
        "a = 'abcdefg1234'  #list와 string은 인덱싱 방법 동일\n",
        "print(type(a))\n",
        "print(a[3:-1])"
      ],
      "metadata": {
        "colab": {
          "base_uri": "https://localhost:8080/"
        },
        "id": "3ujYMFNGSEyx",
        "outputId": "4897e562-7504-47bf-ebc9-2a24ed6f52b0"
      },
      "execution_count": null,
      "outputs": [
        {
          "output_type": "stream",
          "name": "stdout",
          "text": [
            "<class 'str'>\n",
            "defg123\n"
          ]
        }
      ]
    },
    {
      "cell_type": "markdown",
      "source": [
        "\n",
        "\n",
        "---\n",
        "\n"
      ],
      "metadata": {
        "id": "SnLt4WrlV1r2"
      }
    },
    {
      "cell_type": "markdown",
      "source": [
        "**dict**\n",
        "*   중괄호\n",
        "*   key + value, 쌍으로 되어 있음\n",
        "*   key를 통해 value에 access\n",
        "*   항목 추가\n",
        "\n",
        "\n",
        "\n"
      ],
      "metadata": {
        "id": "rl1rbzdwUTmm"
      }
    },
    {
      "cell_type": "code",
      "metadata": {
        "id": "2sivfloGRheM",
        "outputId": "f8aeb972-7408-4213-b3c6-73c5290e2c23",
        "colab": {
          "base_uri": "https://localhost:8080/"
        }
      },
      "source": [
        "a =\t{\"a\": \"apple\", \"b\": \"orange\", \"c\": 2014}\n",
        "print(type(a))\n",
        "print(a[\"a\"])"
      ],
      "execution_count": null,
      "outputs": [
        {
          "output_type": "stream",
          "name": "stdout",
          "text": [
            "<class 'dict'>\n",
            "apple\n"
          ]
        }
      ]
    },
    {
      "cell_type": "code",
      "source": [
        "a = {123: \"hong\", 456: \"sol\", 'h': 2002}\n",
        "a[123]"
      ],
      "metadata": {
        "colab": {
          "base_uri": "https://localhost:8080/",
          "height": 35
        },
        "id": "n-F1IUDnVF3m",
        "outputId": "d04acdc9-2769-4f9b-cb51-fb2834111b9a"
      },
      "execution_count": null,
      "outputs": [
        {
          "output_type": "execute_result",
          "data": {
            "text/plain": [
              "'hong'"
            ],
            "application/vnd.google.colaboratory.intrinsic+json": {
              "type": "string"
            }
          },
          "metadata": {},
          "execution_count": 50
        }
      ]
    }
  ]
}