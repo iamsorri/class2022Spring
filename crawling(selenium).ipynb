{
  "cells": [
    {
      "cell_type": "markdown",
      "metadata": {
        "id": "view-in-github",
        "colab_type": "text"
      },
      "source": [
        "<a href=\"https://colab.research.google.com/github/iamsorri/class2022Spring/blob/main/crawling(selenium).ipynb\" target=\"_parent\"><img src=\"https://colab.research.google.com/assets/colab-badge.svg\" alt=\"Open In Colab\"/></a>"
      ]
    },
    {
      "cell_type": "markdown",
      "source": [
        "- beautifulsoup 쓸 수 없음(정적인 웹사이트용).\n",
        "- 리뷰 다음 페이지 눌러주는 기능이 있는게 selenium (동적인 웹사이트용: 일부만 바뀜)\n",
        "- for 루프 돌리는거 몇 번? 마지막 페이지 정보를 보면 됨"
      ],
      "metadata": {
        "id": "H4sWmfhKqyPF"
      }
    },
    {
      "cell_type": "code",
      "execution_count": null,
      "metadata": {
        "id": "FVqnz0tcAVFM",
        "collapsed": true
      },
      "outputs": [],
      "source": [
        "!pip install selenium\n",
        "  #import는 냉장고에서 꺼내오는거 / install은 시장에서 사오는거"
      ]
    },
    {
      "cell_type": "code",
      "execution_count": 7,
      "metadata": {
        "id": "8xUALw60_lie",
        "outputId": "ac00b39f-48ca-49a1-df83-e596e97fa246",
        "colab": {
          "base_uri": "https://localhost:8080/"
        }
      },
      "outputs": [
        {
          "output_type": "stream",
          "name": "stdout",
          "text": [
            "데미안 | 헤르만 헤세 - 교보문고\n"
          ]
        }
      ],
      "source": [
        "from selenium import webdriver\n",
        "from selenium.webdriver.common.by import By\n",
        "\n",
        "URL = \"https://product.kyobobook.co.kr/detail/S000000620181\"\n",
        "\n",
        "options = webdriver.ChromeOptions()\n",
        "options.add_argument(\" --headless\")\n",
        "options.add_argument(\" --disable-dev-shm-usage\")\n",
        "options.add_argument(\" --no-sandbox\")\n",
        "driver = webdriver.Chrome(options=options)\n",
        "driver.get(URL)     #위 주소랑 싱크가 된다 (빨대 꽂기)\n",
        "print(driver.title)"
      ]
    },
    {
      "cell_type": "code",
      "execution_count": 13,
      "metadata": {
        "id": "iU1ID2KO3dDn",
        "outputId": "a9d74dbd-f061-42d6-dfab-450ac7cd62f7",
        "colab": {
          "base_uri": "https://localhost:8080/"
        }
      },
      "outputs": [
        {
          "output_type": "stream",
          "name": "stdout",
          "text": [
            "현대소설로는 채워지지 않는 갈증이 있을때는\n",
            "고전 다시 읽기추천합니다\n",
            "십대에 읽던 것과는 다른 의미로 다가오네요\n",
            "=======================\n",
            "과거로 돌아간다면 난 어느 시점으로 돌아가고 싶을까 철부지 20대 시절 그 빛나던 시절에 난 무엇을 했던가 생각없이 방황하던 그 시간들이 이제와 돌이켜보면 너무 안타깝다. 지금 이 시간도 언젠가 또 그렇게 느껴지겠지...\n",
            "=======================\n",
            "따듯한 성장소설 , 물론 단순 성장소설이라기엔 내용이 훨씬 심오하지만 나 또한 내면적으로 좀 더 성장할 수 있었던..? 책\n",
            "=======================\n",
            "구매추천합니다\n",
            "=======================\n",
            "추천할게요\n",
            "=======================\n",
            "데미안의 생각과 비슷하다\n",
            "=======================\n",
            "잘 읽겠습니다.\n",
            "=======================\n",
            "도서관에서 빌려보다가 다못읽어서 오늘 구입했네요.\n",
            "=======================\n",
            "만족합니다.\n",
            "=======================\n",
            "마음에 듭니다\n",
            "=======================\n"
          ]
        }
      ],
      "source": [
        "comment_texts = driver.find_elements(By.CLASS_NAME, 'comment_text')\n",
        "  #class name이 comment_text인 것을 다 가져와라\n",
        "for tmp in comment_texts:\n",
        "    print(tmp.text)\n",
        "    print(\"=======================\")\n",
        ""
      ]
    },
    {
      "cell_type": "code",
      "execution_count": 14,
      "metadata": {
        "id": "VAwABAPp0Pl4"
      },
      "outputs": [],
      "source": [
        "btn_page = driver.find_element(By.CLASS_NAME, 'btn_page.next')\n",
        "  #class name이 button page next인 것을 찾아라\n",
        "overlapping_element = driver.find_element(By.CSS_SELECTOR, '#contents > div.prod_detail_footer')\n",
        "driver.execute_script(\"arguments[0].remove()\", overlapping_element)"
      ]
    },
    {
      "cell_type": "code",
      "source": [
        "from bs4 import BeautifulSoup\n",
        "html = driver.page_source\n",
        "  #전체 html 가져오기\n",
        "soup = BeautifulSoup(html, 'html.parser')\n",
        "\n",
        "last_page = soup.select_one(\"#ReviewList1 > div.tab_wrap.type_sm > div.tab_content > div > div.pagination > div > a:nth-child(10)\")\n",
        "last_page_num = int(last_page.get_text())\n",
        "  #마지막 페이지 숫자 받아오기"
      ],
      "metadata": {
        "id": "ObD0ciJzv2K8"
      },
      "execution_count": 15,
      "outputs": []
    },
    {
      "cell_type": "code",
      "source": [
        "import time\n",
        "\n",
        "for n in range(last_page_num-1):\n",
        "    #1부터 75니까 루프는 74번을 돌려야 함\n",
        "  btn_page.click()\n",
        "  time.sleep(1)\n",
        "  comment_texts = driver.find_elements(By.CLASS_NAME, 'comment_text')\n",
        "  for tmp in comment_texts:\n",
        "      print(tmp.text)\n",
        "      print('===============================')\n",
        "\n",
        "driver.quit()"
      ],
      "metadata": {
        "id": "eD9yfRJY44zI"
      },
      "execution_count": null,
      "outputs": []
    }
  ],
  "metadata": {
    "colab": {
      "provenance": [],
      "include_colab_link": true
    },
    "kernelspec": {
      "display_name": "Python 3",
      "name": "python3"
    },
    "language_info": {
      "codemirror_mode": {
        "name": "ipython",
        "version": 3
      },
      "file_extension": ".py",
      "mimetype": "text/x-python",
      "name": "python",
      "nbconvert_exporter": "python",
      "pygments_lexer": "ipython3",
      "version": "3.12.2"
    }
  },
  "nbformat": 4,
  "nbformat_minor": 0
}